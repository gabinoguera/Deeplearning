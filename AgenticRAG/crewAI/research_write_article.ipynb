{
 "cells": [
  {
   "cell_type": "code",
   "execution_count": 1,
   "metadata": {},
   "outputs": [],
   "source": [
    "# Warning control\n",
    "import warnings\n",
    "warnings.filterwarnings('ignore')"
   ]
  },
  {
   "cell_type": "code",
   "execution_count": 2,
   "metadata": {},
   "outputs": [],
   "source": [
    "from crewai import Agent, Task, Crew"
   ]
  },
  {
   "cell_type": "code",
   "execution_count": 3,
   "metadata": {},
   "outputs": [],
   "source": [
    "import os\n",
    "from utils import get_openai_api_key\n",
    "\n",
    "openai_api_key = get_openai_api_key()\n",
    "os.environ[\"OPENAI_MODEL_NAME\"] = 'gpt-3.5-turbo'"
   ]
  },
  {
   "cell_type": "markdown",
   "metadata": {},
   "source": [
    "Agent: Planner"
   ]
  },
  {
   "cell_type": "code",
   "execution_count": 15,
   "metadata": {},
   "outputs": [],
   "source": [
    "planner = Agent(\n",
    "    role=\"Content Planner\",\n",
    "    goal=\"Plan engaging and factually accurate content on {topic}\",\n",
    "    backstory=\"You're working on planning a blog article \"\n",
    "              \"about the topic: {topic}.\"\n",
    "              \"You collect information that helps the \"\n",
    "              \"audience learn something \"\n",
    "              \"and make informed decisions. \"\n",
    "              \"Your work is the basis for \"\n",
    "              \"the Content Writer to write an article on this topic,\"\n",
    "              \"lenaguage output: spanish\",\n",
    "    allow_delegation=False, #no delegar tareas en otro agente\n",
    "\tverbose=True\n",
    ")"
   ]
  },
  {
   "cell_type": "markdown",
   "metadata": {},
   "source": [
    "Agent: Writer"
   ]
  },
  {
   "cell_type": "code",
   "execution_count": 16,
   "metadata": {},
   "outputs": [],
   "source": [
    "writer = Agent(\n",
    "    role=\"Content Writer\",\n",
    "    goal=\"Write insightful and factually accurate \"\n",
    "         \"opinion piece about the topic: {topic}\",\n",
    "    backstory=\"You're working on a writing \"\n",
    "              \"a new opinion piece about the topic: {topic}. \"\n",
    "              \"You base your writing on the work of \"\n",
    "              \"the Content Planner, who provides an outline \"\n",
    "              \"and relevant context about the topic. \"\n",
    "              \"You follow the main objectives and \"\n",
    "              \"direction of the outline, \"\n",
    "              \"as provide by the Content Planner. \"\n",
    "              \"You also provide objective and impartial insights \"\n",
    "              \"and back them up with information \"\n",
    "              \"provide by the Content Planner. \"\n",
    "              \"You acknowledge in your opinion piece \"\n",
    "              \"when your statements are opinions \"\n",
    "              \"as opposed to objective statements,\"\n",
    "              \"lenaguage output: spanish\",\n",
    "    allow_delegation=False,\n",
    "    verbose=True\n",
    ")"
   ]
  },
  {
   "cell_type": "markdown",
   "metadata": {},
   "source": [
    "Agent: Editor"
   ]
  },
  {
   "cell_type": "code",
   "execution_count": 17,
   "metadata": {},
   "outputs": [],
   "source": [
    "editor = Agent(\n",
    "    role=\"Editor\",\n",
    "    goal=\"Edit a given blog post to align with \"\n",
    "         \"the writing style of the organization. \",\n",
    "    backstory=\"You are an editor who receives a blog post \"\n",
    "              \"from the Content Writer. \"\n",
    "              \"Your goal is to review the blog post \"\n",
    "              \"to ensure that it follows journalistic best practices,\"\n",
    "              \"provides balanced viewpoints \"\n",
    "              \"when providing opinions or assertions, \"\n",
    "              \"and also avoids major controversial topics \"\n",
    "              \"or opinions when possible,\"\n",
    "              \"lenaguage output: spanish\",\n",
    "    allow_delegation=False,\n",
    "    verbose=True\n",
    ")"
   ]
  },
  {
   "cell_type": "markdown",
   "metadata": {},
   "source": [
    "Creating Tasks: Define your Tasks, and provide them a description, expected_output and agent"
   ]
  },
  {
   "cell_type": "code",
   "execution_count": 18,
   "metadata": {},
   "outputs": [],
   "source": [
    "#Task: Planner\n",
    "\n",
    "plan = Task(\n",
    "    description=(\n",
    "        \"1. Prioritize the latest trends, key players, \"\n",
    "            \"and noteworthy news on {topic}.\\n\"\n",
    "        \"2. Identify the target audience, considering \"\n",
    "            \"their interests and pain points.\\n\"\n",
    "        \"3. Develop a detailed content outline including \"\n",
    "            \"an introduction, key points, and a call to action.\\n\"\n",
    "        \"4. Include SEO keywords and relevant data or sources.\"\n",
    "    ),\n",
    "    expected_output=\"A comprehensive content plan document \"\n",
    "        \"with an outline, audience analysis, \"\n",
    "        \"SEO keywords, and resources,\"\n",
    "        \"lenguage output: spanish\",\n",
    "    agent=planner,\n",
    ")"
   ]
  },
  {
   "cell_type": "code",
   "execution_count": 19,
   "metadata": {},
   "outputs": [],
   "source": [
    "# Task: Write\n",
    "\n",
    "write = Task(\n",
    "    description=(\n",
    "        \"1. Use the content plan to craft a compelling \"\n",
    "            \"blog post in spanish lenguage on {topic}.\\n\"\n",
    "        \"2. Incorporate SEO keywords naturally.\\n\"\n",
    "\t\t\"3. Sections/Subtitles are properly named \"\n",
    "            \"in an engaging manner.\\n\"\n",
    "        \"4. Ensure the post is structured with an \"\n",
    "            \"engaging introduction, insightful body, \"\n",
    "            \"and a summarizing conclusion.\\n\"\n",
    "        \"5. Proofread for grammatical errors and \"\n",
    "            \"alignment with the brand's voice.\\n\"\n",
    "    ),\n",
    "    expected_output=\"A well-written blog post in Spanish lenguage \"\n",
    "        \"in markdown format, ready for publication, \"\n",
    "        \"each section should have 2 or 3 paragraphs.\",\n",
    "    agent=writer,\n",
    ")"
   ]
  },
  {
   "cell_type": "code",
   "execution_count": 20,
   "metadata": {},
   "outputs": [],
   "source": [
    "# Task: Edit\n",
    "\n",
    "edit = Task(\n",
    "    description=(\"Proofread the given blog post for \"\n",
    "                 \"grammatical errors and \"\n",
    "                 \"alignment with the brand's voice.\"),\n",
    "    expected_output=\"A well-written blog post in markdown format, \"\n",
    "                    \"lenguage output: spanish,\"\n",
    "                    \"ready for publication, \"\n",
    "                    \"each section should have 2 or 3 paragraphs.\",\n",
    "    agent=editor\n",
    ")"
   ]
  },
  {
   "cell_type": "markdown",
   "metadata": {},
   "source": [
    "Creating the Crew:\n",
    "Create your crew of Agents\n",
    "Pass the tasks to be performed by those agents.\n",
    "Note: For this simple example, the tasks will be performed sequentially (i.e they are dependent on each other), so the order of the task in the list matters.\n",
    "verbose=2 allows you to see all the logs of the execution."
   ]
  },
  {
   "cell_type": "code",
   "execution_count": 21,
   "metadata": {},
   "outputs": [
    {
     "name": "stderr",
     "output_type": "stream",
     "text": [
      "2024-06-28 11:22:02,505 - 52312 - __init__.py-__init__:518 - WARNING: Overriding of current TracerProvider is not allowed\n"
     ]
    }
   ],
   "source": [
    "crew = Crew(\n",
    "    agents=[planner, writer, editor],\n",
    "    tasks=[plan, write, edit],\n",
    "    verbose=2 #define la cantidad de log que quiero ver\n",
    ")"
   ]
  },
  {
   "cell_type": "markdown",
   "metadata": {},
   "source": [
    "Running the Crew:\n",
    "Note: LLMs can provide different outputs for they same input."
   ]
  },
  {
   "cell_type": "code",
   "execution_count": 22,
   "metadata": {},
   "outputs": [
    {
     "name": "stdout",
     "output_type": "stream",
     "text": [
      "\u001b[1m\u001b[95m [DEBUG]: == Working Agent: Content Planner\u001b[00m\n",
      "\u001b[1m\u001b[95m [INFO]: == Starting Task: 1. Prioritize the latest trends, key players, and noteworthy news on Multi AI Agent System con crewAI.\n",
      "2. Identify the target audience, considering their interests and pain points.\n",
      "3. Develop a detailed content outline including an introduction, key points, and a call to action.\n",
      "4. Include SEO keywords and relevant data or sources.\u001b[00m\n",
      "\n",
      "\n",
      "\u001b[1m> Entering new CrewAgentExecutor chain...\u001b[0m\n",
      "\u001b[32;1m\u001b[1;3mI now can give a great answer\n",
      "\n",
      "Final Answer: \n",
      "\n",
      "Plan de Contenido para artículo sobre Multi AI Agent System con crewAI\n",
      "\n",
      "Tendencias actuales:\n",
      "- El uso de sistemas Multi AI Agent System con crewAI se está expandiendo rápidamente en diversas industrias, como la atención médica, la logística y el comercio electrónico.\n",
      "- Empresas líderes como Google, Amazon y Microsoft están invirtiendo en el desarrollo de estos sistemas para mejorar la eficiencia y la toma de decisiones.\n",
      "- Se espera que la integración de la inteligencia artificial en equipos de trabajo sea una de las principales tendencias en el futuro cercano.\n",
      "\n",
      "Principales actores:\n",
      "- crewAI es una de las principales empresas en el campo de los sistemas Multi AI Agent, ofreciendo soluciones personalizadas para diferentes sectores.\n",
      "- Otras empresas clave incluyen IBM Watson, Salesforce Einstein y Oracle AI, que también están liderando el camino en la implementación de estos sistemas.\n",
      "\n",
      "Noticias destacadas:\n",
      "- Recientemente, crewAI lanzó una actualización importante de su plataforma, que permite una mayor integración de múltiples agentes de inteligencia artificial en un solo sistema.\n",
      "- Un estudio reciente demostró que las empresas que utilizan sistemas Multi AI Agent con crewAI experimentaron un aumento del 30% en la productividad de sus equipos.\n",
      "\n",
      "Público objetivo:\n",
      "- El artículo está dirigido a profesionales de la tecnología, empresarios y tomadores de decisiones interesados en implementar sistemas de inteligencia artificial en sus organizaciones.\n",
      "- El público objetivo busca mejorar la eficiencia operativa, optimizar la toma de decisiones y mantenerse actualizado sobre las últimas tendencias tecnológicas.\n",
      "\n",
      "Esquema de contenido:\n",
      "- Introducción: Presentación del tema y su relevancia en el mundo empresarial actual.\n",
      "- Tendencias actuales en Multi AI Agent System con crewAI.\n",
      "- Principales actores en el mercado y sus soluciones innovadoras.\n",
      "- Impacto de estos sistemas en la productividad y eficiencia empresarial.\n",
      "- Conclusión: Resumen de los beneficios de la implementación de sistemas Multi AI Agent con crewAI y llamado a la acción para explorar estas soluciones.\n",
      "\n",
      "Palabras clave SEO: \n",
      "- Multi AI Agent System, crewAI, inteligencia artificial, tendencias tecnológicas, eficiencia empresarial.\n",
      "\n",
      "Recursos:\n",
      "- Informes de investigación de empresas líderes en inteligencia artificial.\n",
      "- Artículos de revistas especializadas en tecnología.\n",
      "- Entrevistas con expertos en el campo de la inteligencia artificial.\u001b[0m\n",
      "\n",
      "\u001b[1m> Finished chain.\u001b[0m\n",
      "\u001b[1m\u001b[92m [DEBUG]: == [Content Planner] Task output: Plan de Contenido para artículo sobre Multi AI Agent System con crewAI\n",
      "\n",
      "Tendencias actuales:\n",
      "- El uso de sistemas Multi AI Agent System con crewAI se está expandiendo rápidamente en diversas industrias, como la atención médica, la logística y el comercio electrónico.\n",
      "- Empresas líderes como Google, Amazon y Microsoft están invirtiendo en el desarrollo de estos sistemas para mejorar la eficiencia y la toma de decisiones.\n",
      "- Se espera que la integración de la inteligencia artificial en equipos de trabajo sea una de las principales tendencias en el futuro cercano.\n",
      "\n",
      "Principales actores:\n",
      "- crewAI es una de las principales empresas en el campo de los sistemas Multi AI Agent, ofreciendo soluciones personalizadas para diferentes sectores.\n",
      "- Otras empresas clave incluyen IBM Watson, Salesforce Einstein y Oracle AI, que también están liderando el camino en la implementación de estos sistemas.\n",
      "\n",
      "Noticias destacadas:\n",
      "- Recientemente, crewAI lanzó una actualización importante de su plataforma, que permite una mayor integración de múltiples agentes de inteligencia artificial en un solo sistema.\n",
      "- Un estudio reciente demostró que las empresas que utilizan sistemas Multi AI Agent con crewAI experimentaron un aumento del 30% en la productividad de sus equipos.\n",
      "\n",
      "Público objetivo:\n",
      "- El artículo está dirigido a profesionales de la tecnología, empresarios y tomadores de decisiones interesados en implementar sistemas de inteligencia artificial en sus organizaciones.\n",
      "- El público objetivo busca mejorar la eficiencia operativa, optimizar la toma de decisiones y mantenerse actualizado sobre las últimas tendencias tecnológicas.\n",
      "\n",
      "Esquema de contenido:\n",
      "- Introducción: Presentación del tema y su relevancia en el mundo empresarial actual.\n",
      "- Tendencias actuales en Multi AI Agent System con crewAI.\n",
      "- Principales actores en el mercado y sus soluciones innovadoras.\n",
      "- Impacto de estos sistemas en la productividad y eficiencia empresarial.\n",
      "- Conclusión: Resumen de los beneficios de la implementación de sistemas Multi AI Agent con crewAI y llamado a la acción para explorar estas soluciones.\n",
      "\n",
      "Palabras clave SEO: \n",
      "- Multi AI Agent System, crewAI, inteligencia artificial, tendencias tecnológicas, eficiencia empresarial.\n",
      "\n",
      "Recursos:\n",
      "- Informes de investigación de empresas líderes en inteligencia artificial.\n",
      "- Artículos de revistas especializadas en tecnología.\n",
      "- Entrevistas con expertos en el campo de la inteligencia artificial.\n",
      "\n",
      "\u001b[00m\n",
      "\u001b[1m\u001b[95m [DEBUG]: == Working Agent: Content Writer\u001b[00m\n",
      "\u001b[1m\u001b[95m [INFO]: == Starting Task: 1. Use the content plan to craft a compelling blog post in spanish lenguage on Multi AI Agent System con crewAI.\n",
      "2. Incorporate SEO keywords naturally.\n",
      "3. Sections/Subtitles are properly named in an engaging manner.\n",
      "4. Ensure the post is structured with an engaging introduction, insightful body, and a summarizing conclusion.\n",
      "5. Proofread for grammatical errors and alignment with the brand's voice.\n",
      "\u001b[00m\n",
      "\n",
      "\n",
      "\u001b[1m> Entering new CrewAgentExecutor chain...\u001b[0m\n",
      "\u001b[32;1m\u001b[1;3mEstoy listo para redactar un excelente artículo sobre el tema Multi AI Agent System con crewAI.\n",
      "\n",
      "Final Answer:\n",
      "\n",
      "# El impacto de los sistemas Multi AI Agent con crewAI en el mundo empresarial\n",
      "\n",
      "## Introducción\n",
      "En la actualidad, el uso de sistemas Multi AI Agent con crewAI está revolucionando diversas industrias, desde la atención médica hasta el comercio electrónico. Empresas de renombre como Google, Amazon y Microsoft están invirtiendo recursos significativos en el desarrollo de estos sistemas para mejorar la eficiencia operativa y la toma de decisiones. La integración de la inteligencia artificial en equipos de trabajo se perfila como una de las principales tendencias tecnológicas del futuro cercano.\n",
      "\n",
      "## Tendencias actuales en Multi AI Agent System con crewAI\n",
      "La empresa líder en el campo de los sistemas Multi AI Agent es crewAI, que ofrece soluciones personalizadas para diferentes sectores. Junto a crewAI, empresas como IBM Watson, Salesforce Einstein y Oracle AI están liderando la implementación de estos sistemas innovadores. Recientemente, crewAI lanzó una importante actualización de su plataforma, permitiendo una mayor integración de múltiples agentes de inteligencia artificial en un solo sistema.\n",
      "\n",
      "## Principales actores en el mercado y sus soluciones innovadoras\n",
      "La implementación de sistemas Multi AI Agent con crewAI ha demostrado impactar positivamente la productividad empresarial. Un estudio reciente reveló que las empresas que utilizan estos sistemas experimentaron un aumento del 30% en la productividad de sus equipos. Esta tendencia ha llevado a un crecimiento significativo en la adopción de soluciones de inteligencia artificial en el entorno empresarial.\n",
      "\n",
      "## Impacto de estos sistemas en la productividad y eficiencia empresarial\n",
      "Los sistemas Multi AI Agent con crewAI no solo mejoran la eficiencia operativa, sino que también optimizan la toma de decisiones en las organizaciones. Los profesionales de la tecnología, empresarios y tomadores de decisiones están interesados en implementar estas soluciones para mantenerse actualizados sobre las últimas tendencias tecnológicas y mejorar la eficiencia en sus empresas.\n",
      "\n",
      "## Conclusión\n",
      "En resumen, la implementación de sistemas Multi AI Agent con crewAI ofrece una amplia gama de beneficios para las organizaciones, desde el aumento de la productividad hasta la optimización de la toma de decisiones. Es crucial para las empresas interesadas en mejorar su eficiencia operativa explorar estas soluciones innovadoras y mantenerse a la vanguardia en un entorno empresarial cada vez más competitivo. ¡No pierdas la oportunidad de aprovechar el poder de la inteligencia artificial en tu empresa!\u001b[0m\n",
      "\n",
      "\u001b[1m> Finished chain.\u001b[0m\n",
      "\u001b[1m\u001b[92m [DEBUG]: == [Content Writer] Task output: # El impacto de los sistemas Multi AI Agent con crewAI en el mundo empresarial\n",
      "\n",
      "## Introducción\n",
      "En la actualidad, el uso de sistemas Multi AI Agent con crewAI está revolucionando diversas industrias, desde la atención médica hasta el comercio electrónico. Empresas de renombre como Google, Amazon y Microsoft están invirtiendo recursos significativos en el desarrollo de estos sistemas para mejorar la eficiencia operativa y la toma de decisiones. La integración de la inteligencia artificial en equipos de trabajo se perfila como una de las principales tendencias tecnológicas del futuro cercano.\n",
      "\n",
      "## Tendencias actuales en Multi AI Agent System con crewAI\n",
      "La empresa líder en el campo de los sistemas Multi AI Agent es crewAI, que ofrece soluciones personalizadas para diferentes sectores. Junto a crewAI, empresas como IBM Watson, Salesforce Einstein y Oracle AI están liderando la implementación de estos sistemas innovadores. Recientemente, crewAI lanzó una importante actualización de su plataforma, permitiendo una mayor integración de múltiples agentes de inteligencia artificial en un solo sistema.\n",
      "\n",
      "## Principales actores en el mercado y sus soluciones innovadoras\n",
      "La implementación de sistemas Multi AI Agent con crewAI ha demostrado impactar positivamente la productividad empresarial. Un estudio reciente reveló que las empresas que utilizan estos sistemas experimentaron un aumento del 30% en la productividad de sus equipos. Esta tendencia ha llevado a un crecimiento significativo en la adopción de soluciones de inteligencia artificial en el entorno empresarial.\n",
      "\n",
      "## Impacto de estos sistemas en la productividad y eficiencia empresarial\n",
      "Los sistemas Multi AI Agent con crewAI no solo mejoran la eficiencia operativa, sino que también optimizan la toma de decisiones en las organizaciones. Los profesionales de la tecnología, empresarios y tomadores de decisiones están interesados en implementar estas soluciones para mantenerse actualizados sobre las últimas tendencias tecnológicas y mejorar la eficiencia en sus empresas.\n",
      "\n",
      "## Conclusión\n",
      "En resumen, la implementación de sistemas Multi AI Agent con crewAI ofrece una amplia gama de beneficios para las organizaciones, desde el aumento de la productividad hasta la optimización de la toma de decisiones. Es crucial para las empresas interesadas en mejorar su eficiencia operativa explorar estas soluciones innovadoras y mantenerse a la vanguardia en un entorno empresarial cada vez más competitivo. ¡No pierdas la oportunidad de aprovechar el poder de la inteligencia artificial en tu empresa!\n",
      "\n",
      "\u001b[00m\n",
      "\u001b[1m\u001b[95m [DEBUG]: == Working Agent: Editor\u001b[00m\n",
      "\u001b[1m\u001b[95m [INFO]: == Starting Task: Proofread the given blog post for grammatical errors and alignment with the brand's voice.\u001b[00m\n",
      "\n",
      "\n",
      "\u001b[1m> Entering new CrewAgentExecutor chain...\u001b[0m\n",
      "\u001b[32;1m\u001b[1;3mI now can give a great answer\n",
      "\n",
      "Final Answer:\n",
      "# El impacto de los sistemas Multi AI Agent con crewAI en el mundo empresarial\n",
      "\n",
      "## Introducción\n",
      "En la actualidad, el uso de sistemas Multi AI Agent con crewAI está revolucionando diversas industrias, desde la atención médica hasta el comercio electrónico. Empresas de renombre como Google, Amazon y Microsoft están invirtiendo recursos significativos en el desarrollo de estos sistemas para mejorar la eficiencia operativa y la toma de decisiones. La integración de la inteligencia artificial en equipos de trabajo se perfila como una de las principales tendencias tecnológicas del futuro cercano.\n",
      "\n",
      "## Tendencias actuales en sistemas Multi AI Agent con crewAI\n",
      "La empresa líder en el campo de los sistemas Multi AI Agent es crewAI, que ofrece soluciones personalizadas para diferentes sectores. Junto a crewAI, empresas como IBM Watson, Salesforce Einstein y Oracle AI están liderando la implementación de estos sistemas innovadores. Recientemente, crewAI lanzó una importante actualización de su plataforma, permitiendo una mayor integración de múltiples agentes de inteligencia artificial en un solo sistema.\n",
      "\n",
      "## Principales actores en el mercado y sus soluciones innovadoras\n",
      "La implementación de sistemas Multi AI Agent con crewAI ha demostrado impactar positivamente la productividad empresarial. Un estudio reciente reveló que las empresas que utilizan estos sistemas experimentaron un aumento del 30% en la productividad de sus equipos. Esta tendencia ha llevado a un crecimiento significativo en la adopción de soluciones de inteligencia artificial en el entorno empresarial.\n",
      "\n",
      "## Impacto de estos sistemas en la productividad y eficiencia empresarial\n",
      "Los sistemas Multi AI Agent con crewAI no solo mejoran la eficiencia operativa, sino que también optimizan la toma de decisiones en las organizaciones. Los profesionales de la tecnología, empresarios y tomadores de decisiones están interesados en implementar estas soluciones para mantenerse actualizados sobre las últimas tendencias tecnológicas y mejorar la eficiencia en sus empresas.\n",
      "\n",
      "## Conclusión\n",
      "En resumen, la implementación de sistemas Multi AI Agent con crewAI ofrece una amplia gama de beneficios para las organizaciones, desde el aumento de la productividad hasta la optimización de la toma de decisiones. Es crucial para las empresas interesadas en mejorar su eficiencia operativa explorar estas soluciones innovadoras y mantenerse a la vanguardia en un entorno empresarial cada vez más competitivo. ¡No pierdas la oportunidad de aprovechar el poder de la inteligencia artificial en tu empresa!\u001b[0m\n",
      "\n",
      "\u001b[1m> Finished chain.\u001b[0m\n",
      "\u001b[1m\u001b[92m [DEBUG]: == [Editor] Task output: # El impacto de los sistemas Multi AI Agent con crewAI en el mundo empresarial\n",
      "\n",
      "## Introducción\n",
      "En la actualidad, el uso de sistemas Multi AI Agent con crewAI está revolucionando diversas industrias, desde la atención médica hasta el comercio electrónico. Empresas de renombre como Google, Amazon y Microsoft están invirtiendo recursos significativos en el desarrollo de estos sistemas para mejorar la eficiencia operativa y la toma de decisiones. La integración de la inteligencia artificial en equipos de trabajo se perfila como una de las principales tendencias tecnológicas del futuro cercano.\n",
      "\n",
      "## Tendencias actuales en sistemas Multi AI Agent con crewAI\n",
      "La empresa líder en el campo de los sistemas Multi AI Agent es crewAI, que ofrece soluciones personalizadas para diferentes sectores. Junto a crewAI, empresas como IBM Watson, Salesforce Einstein y Oracle AI están liderando la implementación de estos sistemas innovadores. Recientemente, crewAI lanzó una importante actualización de su plataforma, permitiendo una mayor integración de múltiples agentes de inteligencia artificial en un solo sistema.\n",
      "\n",
      "## Principales actores en el mercado y sus soluciones innovadoras\n",
      "La implementación de sistemas Multi AI Agent con crewAI ha demostrado impactar positivamente la productividad empresarial. Un estudio reciente reveló que las empresas que utilizan estos sistemas experimentaron un aumento del 30% en la productividad de sus equipos. Esta tendencia ha llevado a un crecimiento significativo en la adopción de soluciones de inteligencia artificial en el entorno empresarial.\n",
      "\n",
      "## Impacto de estos sistemas en la productividad y eficiencia empresarial\n",
      "Los sistemas Multi AI Agent con crewAI no solo mejoran la eficiencia operativa, sino que también optimizan la toma de decisiones en las organizaciones. Los profesionales de la tecnología, empresarios y tomadores de decisiones están interesados en implementar estas soluciones para mantenerse actualizados sobre las últimas tendencias tecnológicas y mejorar la eficiencia en sus empresas.\n",
      "\n",
      "## Conclusión\n",
      "En resumen, la implementación de sistemas Multi AI Agent con crewAI ofrece una amplia gama de beneficios para las organizaciones, desde el aumento de la productividad hasta la optimización de la toma de decisiones. Es crucial para las empresas interesadas en mejorar su eficiencia operativa explorar estas soluciones innovadoras y mantenerse a la vanguardia en un entorno empresarial cada vez más competitivo. ¡No pierdas la oportunidad de aprovechar el poder de la inteligencia artificial en tu empresa!\n",
      "\n",
      "\u001b[00m\n"
     ]
    }
   ],
   "source": [
    "result = crew.kickoff(inputs={\"topic\": \"Multi AI Agent System con crewAI\"})"
   ]
  },
  {
   "cell_type": "code",
   "execution_count": 23,
   "metadata": {},
   "outputs": [
    {
     "data": {
      "text/markdown": [
       "# El impacto de los sistemas Multi AI Agent con crewAI en el mundo empresarial\n",
       "\n",
       "## Introducción\n",
       "En la actualidad, el uso de sistemas Multi AI Agent con crewAI está revolucionando diversas industrias, desde la atención médica hasta el comercio electrónico. Empresas de renombre como Google, Amazon y Microsoft están invirtiendo recursos significativos en el desarrollo de estos sistemas para mejorar la eficiencia operativa y la toma de decisiones. La integración de la inteligencia artificial en equipos de trabajo se perfila como una de las principales tendencias tecnológicas del futuro cercano.\n",
       "\n",
       "## Tendencias actuales en sistemas Multi AI Agent con crewAI\n",
       "La empresa líder en el campo de los sistemas Multi AI Agent es crewAI, que ofrece soluciones personalizadas para diferentes sectores. Junto a crewAI, empresas como IBM Watson, Salesforce Einstein y Oracle AI están liderando la implementación de estos sistemas innovadores. Recientemente, crewAI lanzó una importante actualización de su plataforma, permitiendo una mayor integración de múltiples agentes de inteligencia artificial en un solo sistema.\n",
       "\n",
       "## Principales actores en el mercado y sus soluciones innovadoras\n",
       "La implementación de sistemas Multi AI Agent con crewAI ha demostrado impactar positivamente la productividad empresarial. Un estudio reciente reveló que las empresas que utilizan estos sistemas experimentaron un aumento del 30% en la productividad de sus equipos. Esta tendencia ha llevado a un crecimiento significativo en la adopción de soluciones de inteligencia artificial en el entorno empresarial.\n",
       "\n",
       "## Impacto de estos sistemas en la productividad y eficiencia empresarial\n",
       "Los sistemas Multi AI Agent con crewAI no solo mejoran la eficiencia operativa, sino que también optimizan la toma de decisiones en las organizaciones. Los profesionales de la tecnología, empresarios y tomadores de decisiones están interesados en implementar estas soluciones para mantenerse actualizados sobre las últimas tendencias tecnológicas y mejorar la eficiencia en sus empresas.\n",
       "\n",
       "## Conclusión\n",
       "En resumen, la implementación de sistemas Multi AI Agent con crewAI ofrece una amplia gama de beneficios para las organizaciones, desde el aumento de la productividad hasta la optimización de la toma de decisiones. Es crucial para las empresas interesadas en mejorar su eficiencia operativa explorar estas soluciones innovadoras y mantenerse a la vanguardia en un entorno empresarial cada vez más competitivo. ¡No pierdas la oportunidad de aprovechar el poder de la inteligencia artificial en tu empresa!"
      ],
      "text/plain": [
       "<IPython.core.display.Markdown object>"
      ]
     },
     "execution_count": 23,
     "metadata": {},
     "output_type": "execute_result"
    }
   ],
   "source": [
    "#Display the results of your execution as markdown in the notebook.\n",
    "from IPython.display import Markdown\n",
    "Markdown(result)"
   ]
  },
  {
   "cell_type": "markdown",
   "metadata": {},
   "source": [
    "Try it Yourself: Pass in a topic of your choice and see what the agents come up with!"
   ]
  },
  {
   "cell_type": "code",
   "execution_count": null,
   "metadata": {},
   "outputs": [],
   "source": [
    "topic = \"YOUR TOPIC HERE\"\n",
    "result = crew.kickoff(inputs={\"topic\": topic})"
   ]
  },
  {
   "cell_type": "code",
   "execution_count": null,
   "metadata": {},
   "outputs": [],
   "source": [
    "Markdown(result)"
   ]
  },
  {
   "cell_type": "markdown",
   "metadata": {},
   "source": [
    "Other Popular Models as LLM for your Agents"
   ]
  },
  {
   "cell_type": "code",
   "execution_count": null,
   "metadata": {},
   "outputs": [],
   "source": [
    "# Hugging Face (HuggingFaceHub endpoint)\n",
    "\n",
    "from langchain_community.llms import HuggingFaceHub\n",
    "\n",
    "llm = HuggingFaceHub(\n",
    "    repo_id=\"HuggingFaceH4/zephyr-7b-beta\",\n",
    "    huggingfacehub_api_token=\"<HF_TOKEN_HERE>\",\n",
    "    task=\"text-generation\",\n",
    ")\n",
    "\n",
    "### you will pass \"llm\" to your agent function"
   ]
  },
  {
   "cell_type": "code",
   "execution_count": null,
   "metadata": {},
   "outputs": [],
   "source": [
    "#Mistral API\n",
    "\n",
    "MISTRAL_API_KEY=your-mistral-api-key\n",
    "MISTRAL_API_BASE=https://api.mistral.ai/v1\n",
    "MISTRAL_MODEL_NAME=\"mistral-small\""
   ]
  },
  {
   "cell_type": "code",
   "execution_count": null,
   "metadata": {},
   "outputs": [],
   "source": [
    "#Cohere\n",
    "\n",
    "from langchain_community.chat_models import ChatCohere\n",
    "# Initialize language model\n",
    "os.environ[\"COHERE_API_KEY\"] = \"your-cohere-api-key\"\n",
    "llm = ChatCohere()\n",
    "\n",
    "### you will pass \"llm\" to your agent function"
   ]
  }
 ],
 "metadata": {
  "kernelspec": {
   "display_name": "env",
   "language": "python",
   "name": "python3"
  },
  "language_info": {
   "codemirror_mode": {
    "name": "ipython",
    "version": 3
   },
   "file_extension": ".py",
   "mimetype": "text/x-python",
   "name": "python",
   "nbconvert_exporter": "python",
   "pygments_lexer": "ipython3",
   "version": "3.10.11"
  }
 },
 "nbformat": 4,
 "nbformat_minor": 2
}
