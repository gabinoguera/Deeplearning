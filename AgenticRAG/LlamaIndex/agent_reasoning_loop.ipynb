{
 "cells": [
  {
   "cell_type": "code",
   "execution_count": 1,
   "metadata": {},
   "outputs": [],
   "source": [
    "from helper import get_openai_api_key\n",
    "OPENAI_API_KEY = get_openai_api_key()"
   ]
  },
  {
   "cell_type": "code",
   "execution_count": 2,
   "metadata": {},
   "outputs": [],
   "source": [
    "import nest_asyncio\n",
    "nest_asyncio.apply()"
   ]
  },
  {
   "cell_type": "code",
   "execution_count": 3,
   "metadata": {},
   "outputs": [],
   "source": [
    "from utils import get_doc_tools\n",
    "\n",
    "vector_tool, summary_tool = get_doc_tools(\"ing_industrial.pdf\", \"metagpt\")"
   ]
  },
  {
   "cell_type": "markdown",
   "metadata": {},
   "source": [
    "Setup Function Calling Agent"
   ]
  },
  {
   "cell_type": "code",
   "execution_count": 4,
   "metadata": {},
   "outputs": [],
   "source": [
    "from llama_index.llms.openai import OpenAI\n",
    "\n",
    "llm = OpenAI(model=\"gpt-3.5-turbo\", temperature=0)"
   ]
  },
  {
   "cell_type": "code",
   "execution_count": 5,
   "metadata": {},
   "outputs": [],
   "source": [
    "from llama_index.core.agent import FunctionCallingAgentWorker\n",
    "from llama_index.core.agent import AgentRunner\n",
    "\n",
    "agent_worker = FunctionCallingAgentWorker.from_tools(\n",
    "    [vector_tool, summary_tool], \n",
    "    llm=llm, \n",
    "    verbose=True\n",
    ")\n",
    "agent = AgentRunner(agent_worker)"
   ]
  },
  {
   "cell_type": "code",
   "execution_count": 6,
   "metadata": {},
   "outputs": [
    {
     "name": "stdout",
     "output_type": "stream",
     "text": [
      "Added user message to memory: Tell me about the recognized academic quality. and then what are the main career subjects.\n",
      "=== Calling Function ===\n",
      "Calling function: summary_tool_metagpt with args: {\"input\": \"Recognized academic quality\"}\n",
      "=== Function Output ===\n",
      "Utel's academic quality is recognized through various credentials and accreditations from reputable institutions such as RVOE | SEP, WHED | UNESCO, FIMPES, ASIC, QS STARS, AMECYD | CALED | CREAD | AIESAD. These affiliations attest to the institution's commitment to providing high-quality education.\n",
      "=== Calling Function ===\n",
      "Calling function: summary_tool_metagpt with args: {\"input\": \"Main career subjects\"}\n",
      "=== Function Output ===\n",
      "The main career subjects for the Industrial Engineering degree program include:\n",
      "- Quality Control\n",
      "- Processes and Manufacturing\n",
      "- Production\n",
      "- Logistics\n",
      "- Business Strategic Planning\n",
      "- Business Process Alignment\n",
      "- Control Systems Development\n",
      "- Process Management\n",
      "=== LLM Response ===\n",
      "The recognized academic quality of Utel is affirmed through various credentials and accreditations from reputable institutions such as RVOE | SEP, WHED | UNESCO, FIMPES, ASIC, QS STARS, AMECYD | CALED | CREAD | AIESAD. These affiliations attest to the institution's commitment to providing high-quality education.\n",
      "\n",
      "The main career subjects for the Industrial Engineering degree program at Utel include:\n",
      "- Quality Control\n",
      "- Processes and Manufacturing\n",
      "- Production\n",
      "- Logistics\n",
      "- Business Strategic Planning\n",
      "- Business Process Alignment\n",
      "- Control Systems Development\n",
      "- Process Management\n"
     ]
    }
   ],
   "source": [
    "response = agent.query(\n",
    "    \"Tell me about the recognized academic quality. \"\n",
    "    \"and then what are the main career subjects.\"\n",
    ")"
   ]
  },
  {
   "cell_type": "code",
   "execution_count": 7,
   "metadata": {},
   "outputs": [
    {
     "name": "stdout",
     "output_type": "stream",
     "text": [
      "page_label: 1\n",
      "file_name: ing_industrial.pdf\n",
      "file_path: ing_industrial.pdf\n",
      "file_type: application/pdf\n",
      "file_size: 372978\n",
      "creation_date: 2024-06-21\n",
      "last_modified_date: 2024-06-18\n",
      "\n",
      "Grado en\n",
      "Ingeniería Industrial\n",
      "Sobre el grado\n",
      "Con este grado, tu potencial te llevará a diseñar \n",
      "todos los procesos de una empresa, inﬂuir en todas sus áreas y sacar lo mejor de cada colaborador y colaboradora utilizando síntesis de la ingeniería y el diseño para evaluar y mejorar los resultados. Esta ingeniería busca instruirte en el equipamiento, energía, materiales y procesos de producción de alta calidad y servicios útiles con alta consideración al medio ambiente.\n",
      "Dónde podrás trabajar\n",
      "Con\n",
      "trol de calidad\n",
      "Asegura el cumplimiento de todas las características y herramientas de productos y servicios.\n",
      "Procesos y manufactura\n",
      "Mejora los procesos y propón estrategias sustentables de crecimiento.\n",
      "Producción\n",
      "Implementa estrategias de optimización para conseguir el rendimiento máximo de procesos industriales.\n",
      "Logística\n",
      "Demuestra tu capacidad de análisis, interpretación, comprensión, diseño, programación y control de sistemas productivos y logísticos.Lo que aprenderás\n",
      "Planes estratégicos de negociosDiseña e implementa planes estratégicos de negocios y sistemas para adaptar nuevas tecnologías, reducir desperdicios, mejorar las condiciones de trabajo y los estándares de productividad desde una perspectiva de mejores prácticas directivas y de management.\n",
      "Alineación de los procesos de negocio\n",
      "Fomenta la productividad de las empresas alineando todos sus procesos a lo largo de la cadena de suministro analizando, diseñando, implementando y manteniendo sistemas que mejorarán su eﬁciencia para balancear la producción y optimizar sus procesos.\n",
      "Desarrollo de sistemas de control\n",
      "Lidera sistemas de control para lograr objetivos determinados regulando la forma en que se comporta otro sistema para así evitar fallas. Con estos controles podrás brindar apoyo a la planeación ﬁnanciera, análisis de costos y diseñar sistemas productivos y cadenas de suministros.\n",
      "Gestión de procesos\n",
      "Aprovecha al máximo los recursos para que no haya desperdicios o mermas, reduciendo los tiempos de producción de operadores y maquinarias para aprovechar cada segundo y así maximizar las ganancias de la empresa.\n",
      "utel.edu.mx/espana\n"
     ]
    }
   ],
   "source": [
    "print(response.source_nodes[0].get_content(metadata_mode=\"all\"))"
   ]
  },
  {
   "cell_type": "code",
   "execution_count": 8,
   "metadata": {},
   "outputs": [
    {
     "name": "stdout",
     "output_type": "stream",
     "text": [
      "Added user message to memory: Tell me about the courses i will take.\n",
      "=== Calling Function ===\n",
      "Calling function: summary_tool_metagpt with args: {\"input\": \"Courses in the Industrial Engineering degree program\"}\n",
      "=== Function Output ===\n",
      "The courses in the Industrial Engineering degree program include subjects such as Structure of Transformation Industry, Advanced Algebra, Sustainable Development, Linear Algebra, Physics, Statistics and Probability, Chemistry, Differential and Integral Calculus, Methods Engineering, Operations Research, Systems Engineering, Materials Technology, Manufacturing Systems, Information Systems in Business, Information Technology Applied to Companies, Production Planning and Control, Logistics, Quality Planning and Control, Industrial Safety and Hygiene, and Industrial Processes.\n",
      "=== LLM Response ===\n",
      "The courses in the Industrial Engineering degree program at Utel include subjects such as Structure of Transformation Industry, Advanced Algebra, Sustainable Development, Linear Algebra, Physics, Statistics and Probability, Chemistry, Differential and Integral Calculus, Methods Engineering, Operations Research, Systems Engineering, Materials Technology, Manufacturing Systems, Information Systems in Business, Information Technology Applied to Companies, Production Planning and Control, Logistics, Quality Planning and Control, Industrial Safety and Hygiene, and Industrial Processes.\n"
     ]
    }
   ],
   "source": [
    "response = agent.chat(\n",
    "    \"Tell me about the courses i will take.\"\n",
    ")"
   ]
  },
  {
   "cell_type": "code",
   "execution_count": 9,
   "metadata": {},
   "outputs": [
    {
     "name": "stdout",
     "output_type": "stream",
     "text": [
      "Added user message to memory: Tell me the total credits of this career.\n",
      "=== Calling Function ===\n",
      "Calling function: vector_tool_metagpt with args: {\"query\": \"Total credits of the Industrial Engineering degree program\", \"page_numbers\": [\"6\"]}\n",
      "=== Function Output ===\n",
      "Empty Response\n",
      "=== LLM Response ===\n",
      "I couldn't find the specific information about the total credits of the Industrial Engineering degree program in the provided source. It may be best to refer to the official Utel website or contact the university directly for this information.\n"
     ]
    }
   ],
   "source": [
    "response = agent.chat(\"Tell me the total credits of this career.\")"
   ]
  },
  {
   "cell_type": "markdown",
   "metadata": {},
   "source": [
    "Lower-Level: Debuggability and Control"
   ]
  },
  {
   "cell_type": "code",
   "execution_count": 10,
   "metadata": {},
   "outputs": [],
   "source": [
    "agent_worker = FunctionCallingAgentWorker.from_tools(\n",
    "    [vector_tool, summary_tool], \n",
    "    llm=llm, \n",
    "    verbose=True\n",
    ")\n",
    "agent = AgentRunner(agent_worker)"
   ]
  },
  {
   "cell_type": "code",
   "execution_count": 11,
   "metadata": {},
   "outputs": [],
   "source": [
    "task = agent.create_task(\n",
    "    \"Tell me about the recognized academic quality. \"\n",
    "    \"and then what are the main career subjects.\"\n",
    ")"
   ]
  },
  {
   "cell_type": "code",
   "execution_count": 12,
   "metadata": {},
   "outputs": [
    {
     "name": "stdout",
     "output_type": "stream",
     "text": [
      "Added user message to memory: Tell me about the recognized academic quality. and then what are the main career subjects.\n",
      "=== Calling Function ===\n",
      "Calling function: summary_tool_metagpt with args: {\"input\": \"Recognized academic quality\"}\n",
      "=== Function Output ===\n",
      "Utel's academic quality is recognized through various credentials and accreditations from reputable institutions such as RVOE | SEP, WHED | UNESCO, FIMPES, ASIC, QS STARS, AMECYD, CALED, CREAD, and AIESAD. These affiliations attest to the institution's commitment to providing high-quality education.\n",
      "=== Calling Function ===\n",
      "Calling function: summary_tool_metagpt with args: {\"input\": \"Main career subjects\"}\n",
      "=== Function Output ===\n",
      "Quality control, processes and manufacturing, production, and logistics are some of the main career subjects covered in the Industrial Engineering degree program. Additionally, subjects such as business strategic planning, business process alignment, control systems development, and process management are also key areas of study in this program.\n"
     ]
    }
   ],
   "source": [
    "step_output = agent.run_step(task.task_id)"
   ]
  },
  {
   "cell_type": "code",
   "execution_count": 13,
   "metadata": {},
   "outputs": [
    {
     "name": "stdout",
     "output_type": "stream",
     "text": [
      "Num completed for task c0b7d92f-0536-42a8-9cb3-b6d7f8c1106b: 1\n",
      "Utel's academic quality is recognized through various credentials and accreditations from reputable institutions such as RVOE | SEP, WHED | UNESCO, FIMPES, ASIC, QS STARS, AMECYD, CALED, CREAD, and AIESAD. These affiliations attest to the institution's commitment to providing high-quality education.\n"
     ]
    }
   ],
   "source": [
    "completed_steps = agent.get_completed_steps(task.task_id)\n",
    "print(f\"Num completed for task {task.task_id}: {len(completed_steps)}\")\n",
    "print(completed_steps[0].output.sources[0].raw_output)"
   ]
  },
  {
   "cell_type": "code",
   "execution_count": 14,
   "metadata": {},
   "outputs": [
    {
     "name": "stdout",
     "output_type": "stream",
     "text": [
      "Num upcoming steps for task c0b7d92f-0536-42a8-9cb3-b6d7f8c1106b: 1\n"
     ]
    },
    {
     "data": {
      "text/plain": [
       "TaskStep(task_id='c0b7d92f-0536-42a8-9cb3-b6d7f8c1106b', step_id='a2ef27cf-9115-4326-bf1e-c82e5c4f10da', input=None, step_state={}, next_steps={}, prev_steps={}, is_ready=True)"
      ]
     },
     "execution_count": 14,
     "metadata": {},
     "output_type": "execute_result"
    }
   ],
   "source": [
    "upcoming_steps = agent.get_upcoming_steps(task.task_id)\n",
    "print(f\"Num upcoming steps for task {task.task_id}: {len(upcoming_steps)}\")\n",
    "upcoming_steps[0]"
   ]
  },
  {
   "cell_type": "code",
   "execution_count": 15,
   "metadata": {},
   "outputs": [
    {
     "name": "stdout",
     "output_type": "stream",
     "text": [
      "Added user message to memory: What about the main courses?\n",
      "=== Calling Function ===\n",
      "Calling function: summary_tool_metagpt with args: {\"input\": \"Main courses\"}\n",
      "=== Function Output ===\n",
      "The main courses for the Industrial Engineering degree program include:\n",
      "- Estructura de la industria de la transformación\n",
      "- Álgebra superior\n",
      "- Desarrollo sustentable\n",
      "- Álgebra lineal\n",
      "- Física\n",
      "- Estadística y probabilidad\n",
      "- Química\n",
      "- Cálculo diferencial e integral\n",
      "- Ingeniería de métodos\n",
      "- Investigación de operaciones\n",
      "- Ingeniería de sistemas\n",
      "- Tecnología de materiales\n",
      "- Sistemas de manufactura\n",
      "- Sistemas de información en la empresa\n",
      "- Tecnología de información aplicada a las empresas\n",
      "- Planeación y control de la producción\n",
      "- Logística\n",
      "- Planeación y control de la calidad\n",
      "- Seguridad e higiene industrial\n",
      "- Procesos industriales\n"
     ]
    }
   ],
   "source": [
    "step_output = agent.run_step(\n",
    "    task.task_id, input=\"What about the main courses?\"\n",
    ")"
   ]
  },
  {
   "cell_type": "code",
   "execution_count": 16,
   "metadata": {},
   "outputs": [
    {
     "name": "stdout",
     "output_type": "stream",
     "text": [
      "=== LLM Response ===\n",
      "The main courses for the Industrial Engineering degree program include a variety of subjects such as Estructura de la industria de la transformación, Álgebra superior, Desarrollo sustentable, Física, Estadística y probabilidad, Química, Cálculo diferencial e integral, Ingeniería de métodos, Investigación de operaciones, Ingeniería de sistemas, Tecnología de materiales, Sistemas de manufactura, Sistemas de información en la empresa, Tecnología de información aplicada a las empresas, Planeación y control de la producción, Logística, Planeación y control de la calidad, Seguridad e higiene industrial, and Procesos industriales.\n",
      "True\n"
     ]
    }
   ],
   "source": [
    "step_output = agent.run_step(task.task_id)\n",
    "print(step_output.is_last)"
   ]
  },
  {
   "cell_type": "code",
   "execution_count": 17,
   "metadata": {},
   "outputs": [],
   "source": [
    "response = agent.finalize_response(task.task_id)"
   ]
  },
  {
   "cell_type": "code",
   "execution_count": 18,
   "metadata": {},
   "outputs": [
    {
     "name": "stdout",
     "output_type": "stream",
     "text": [
      "The main courses for the Industrial Engineering degree program include a variety of subjects such as Estructura de la industria de la transformación, Álgebra superior, Desarrollo sustentable, Física, Estadística y probabilidad, Química, Cálculo diferencial e integral, Ingeniería de métodos, Investigación de operaciones, Ingeniería de sistemas, Tecnología de materiales, Sistemas de manufactura, Sistemas de información en la empresa, Tecnología de información aplicada a las empresas, Planeación y control de la producción, Logística, Planeación y control de la calidad, Seguridad e higiene industrial, and Procesos industriales.\n"
     ]
    }
   ],
   "source": [
    "print(str(response))"
   ]
  }
 ],
 "metadata": {
  "kernelspec": {
   "display_name": "env",
   "language": "python",
   "name": "python3"
  },
  "language_info": {
   "codemirror_mode": {
    "name": "ipython",
    "version": 3
   },
   "file_extension": ".py",
   "mimetype": "text/x-python",
   "name": "python",
   "nbconvert_exporter": "python",
   "pygments_lexer": "ipython3",
   "version": "3.10.11"
  }
 },
 "nbformat": 4,
 "nbformat_minor": 2
}
