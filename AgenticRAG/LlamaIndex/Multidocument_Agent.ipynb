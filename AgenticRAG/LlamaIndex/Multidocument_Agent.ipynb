{
 "cells": [
  {
   "cell_type": "code",
   "execution_count": 9,
   "metadata": {},
   "outputs": [],
   "source": [
    "from helper import get_openai_api_key\n",
    "OPENAI_API_KEY = get_openai_api_key()"
   ]
  },
  {
   "cell_type": "code",
   "execution_count": 10,
   "metadata": {},
   "outputs": [],
   "source": [
    "import nest_asyncio\n",
    "nest_asyncio.apply()"
   ]
  },
  {
   "cell_type": "markdown",
   "metadata": {},
   "source": [
    "Setup an agent over 3 papers"
   ]
  },
  {
   "cell_type": "code",
   "execution_count": 11,
   "metadata": {},
   "outputs": [],
   "source": [
    "#urls = [\n",
    "#    \"https://openreview.net/pdf?id=VtmBAGCN7o\",\n",
    "#    \"https://openreview.net/pdf?id=6PmJoRfdaK\",\n",
    "#    \"https://openreview.net/pdf?id=hSyW5go0v8\",\n",
    "#]\n",
    "\n",
    "papers = [\n",
    "    \"Utel_Espana_Fichas_Tecnicas_Grado_Ingenieria_Industrial_e5cfa85380.pdf\",\n",
    "    \"Utel_Peru_Fichas_Tecnicas_Carrera_Admin_Finanza_a4fd7378c0.pdf\",\n",
    "    \"Utel_Peru_Fichas_Tecnicas_Carrera_Admin_Negocios_99e564b1a0.pdf\",\n",
    "]"
   ]
  },
  {
   "cell_type": "code",
   "execution_count": 12,
   "metadata": {},
   "outputs": [
    {
     "name": "stdout",
     "output_type": "stream",
     "text": [
      "Getting tools for paper: Utel_Espana_Fichas_Tecnicas_Grado_Ingenieria_Industrial_e5cfa85380.pdf\n",
      "Getting tools for paper: Utel_Peru_Fichas_Tecnicas_Carrera_Admin_Finanza_a4fd7378c0.pdf\n",
      "Getting tools for paper: Utel_Peru_Fichas_Tecnicas_Carrera_Admin_Negocios_99e564b1a0.pdf\n"
     ]
    }
   ],
   "source": [
    "from utils import get_doc_tools\n",
    "from pathlib import Path\n",
    "\n",
    "paper_to_tools_dict = {}\n",
    "for paper in papers:\n",
    "    print(f\"Getting tools for paper: {paper}\")\n",
    "    vector_tool, summary_tool = get_doc_tools(paper, Path(paper).stem)\n",
    "    paper_to_tools_dict[paper] = [vector_tool, summary_tool]"
   ]
  },
  {
   "cell_type": "code",
   "execution_count": 13,
   "metadata": {},
   "outputs": [],
   "source": [
    "initial_tools = [t for paper in papers for t in paper_to_tools_dict[paper]]"
   ]
  },
  {
   "cell_type": "code",
   "execution_count": 14,
   "metadata": {},
   "outputs": [],
   "source": [
    "from llama_index.llms.openai import OpenAI\n",
    "\n",
    "llm = OpenAI(model=\"gpt-3.5-turbo\")"
   ]
  },
  {
   "cell_type": "code",
   "execution_count": 15,
   "metadata": {},
   "outputs": [
    {
     "data": {
      "text/plain": [
       "6"
      ]
     },
     "execution_count": 15,
     "metadata": {},
     "output_type": "execute_result"
    }
   ],
   "source": [
    "len(initial_tools)"
   ]
  },
  {
   "cell_type": "code",
   "execution_count": 16,
   "metadata": {},
   "outputs": [],
   "source": [
    "from llama_index.core.agent import FunctionCallingAgentWorker\n",
    "from llama_index.core.agent import AgentRunner\n",
    "\n",
    "agent_worker = FunctionCallingAgentWorker.from_tools(\n",
    "    initial_tools, \n",
    "    llm=llm, \n",
    "    verbose=True\n",
    ")\n",
    "agent = AgentRunner(agent_worker)"
   ]
  },
  {
   "cell_type": "code",
   "execution_count": null,
   "metadata": {},
   "outputs": [],
   "source": [
    "response = agent.query(\n",
    "    \"Tell me about the courses i will take in Business Administration \"\n",
    "    \"and then tell me about the academic quality\"\n",
    ")"
   ]
  },
  {
   "cell_type": "code",
   "execution_count": null,
   "metadata": {},
   "outputs": [],
   "source": [
    "response = agent.query(\"Give me a summary of both Self-RAG and LongLoRA\")\n",
    "print(str(response))"
   ]
  },
  {
   "cell_type": "markdown",
   "metadata": {},
   "source": [
    "Setup an agent over 9 papers"
   ]
  },
  {
   "cell_type": "code",
   "execution_count": 18,
   "metadata": {},
   "outputs": [],
   "source": [
    "papers = [\n",
    "    \"Utel_Espana_Fichas_Tecnicas_Grado_Ingenieria_Industrial_e5cfa85380.pdf\",\n",
    "    \"Utel_Peru_Fichas_Tecnicas_Carrera_Admin_Finanza_a4fd7378c0.pdf\",\n",
    "    \"Utel_Peru_Fichas_Tecnicas_Carrera_Admin_Negocios_99e564b1a0.pdf\",\n",
    "    \"Utel_Peru_Fichas_Tecnicas_Carrera_Admin_Tec_DE_Info_4c05059c9f.pdf\",\n",
    "    \"Utel_Peru_Fichas_Tecnicas_Carrera_Admin_Ventas_b930c660ab.pdf\",\n",
    "    \"Utel_Peru_Fichas_Tecnicas_Carrera_Administracionde_Empresas_Turisticas_3f3c68ba10.pdf\",\n",
    "    \"Utel_Peru_Fichas_Tecnicas_Carrera_Ciencias_Politicasy_Administracion_Publica_d30ea21604.pdf\",\n",
    "    \"Utel_Peru_Fichas_Tecnicas_Carrera_Comunicacion_c27526bb56.pdf\",\n",
    "    \"Utel_Peru_Fichas_Tecnicas_Carrera_Comunicacion_Digital_7bae61c167.pdf\"\n",
    "]"
   ]
  },
  {
   "cell_type": "code",
   "execution_count": 19,
   "metadata": {},
   "outputs": [
    {
     "name": "stdout",
     "output_type": "stream",
     "text": [
      "Getting tools for paper: Utel_Espana_Fichas_Tecnicas_Grado_Ingenieria_Industrial_e5cfa85380.pdf\n",
      "Getting tools for paper: Utel_Peru_Fichas_Tecnicas_Carrera_Admin_Finanza_a4fd7378c0.pdf\n",
      "Getting tools for paper: Utel_Peru_Fichas_Tecnicas_Carrera_Admin_Negocios_99e564b1a0.pdf\n",
      "Getting tools for paper: Utel_Peru_Fichas_Tecnicas_Carrera_Admin_Tec_DE_Info_4c05059c9f.pdf\n",
      "Getting tools for paper: Utel_Peru_Fichas_Tecnicas_Carrera_Admin_Ventas_b930c660ab.pdf\n",
      "Getting tools for paper: Utel_Peru_Fichas_Tecnicas_Carrera_Administracionde_Empresas_Turisticas_3f3c68ba10.pdf\n",
      "Getting tools for paper: Utel_Peru_Fichas_Tecnicas_Carrera_Ciencias_Politicasy_Administracion_Publica_d30ea21604.pdf\n",
      "Getting tools for paper: Utel_Peru_Fichas_Tecnicas_Carrera_Comunicacion_c27526bb56.pdf\n",
      "Getting tools for paper: Utel_Peru_Fichas_Tecnicas_Carrera_Comunicacion_Digital_7bae61c167.pdf\n"
     ]
    }
   ],
   "source": [
    "from utils import get_doc_tools\n",
    "from pathlib import Path\n",
    "\n",
    "paper_to_tools_dict = {}\n",
    "for paper in papers:\n",
    "    print(f\"Getting tools for paper: {paper}\")\n",
    "    vector_tool, summary_tool = get_doc_tools(paper, Path(paper).stem)\n",
    "    paper_to_tools_dict[paper] = [vector_tool, summary_tool]"
   ]
  },
  {
   "cell_type": "markdown",
   "metadata": {},
   "source": [
    "Extend the Agent with Tool Retrieval"
   ]
  },
  {
   "cell_type": "code",
   "execution_count": 20,
   "metadata": {},
   "outputs": [],
   "source": [
    "all_tools = [t for paper in papers for t in paper_to_tools_dict[paper]]"
   ]
  },
  {
   "cell_type": "code",
   "execution_count": 21,
   "metadata": {},
   "outputs": [],
   "source": [
    "# define an \"object\" index and retriever over these tools\n",
    "from llama_index.core import VectorStoreIndex\n",
    "from llama_index.core.objects import ObjectIndex\n",
    "\n",
    "obj_index = ObjectIndex.from_objects(\n",
    "    all_tools,\n",
    "    index_cls=VectorStoreIndex,\n",
    ")"
   ]
  },
  {
   "cell_type": "code",
   "execution_count": 22,
   "metadata": {},
   "outputs": [],
   "source": [
    "obj_retriever = obj_index.as_retriever(similarity_top_k=3)"
   ]
  },
  {
   "cell_type": "code",
   "execution_count": 23,
   "metadata": {},
   "outputs": [],
   "source": [
    "tools = obj_retriever.retrieve(\n",
    "    \"Tell me about the eval dataset used in MetaGPT and SWE-Bench\"\n",
    ")"
   ]
  },
  {
   "cell_type": "code",
   "execution_count": 26,
   "metadata": {},
   "outputs": [
    {
     "data": {
      "text/plain": [
       "ToolMetadata(description='Use ONLY IF you want to get a holistic summary of MetaGPT. Do NOT use if you have specific questions over MetaGPT.', name='summary_tool_Utel_Espana_Fichas_Tecnicas_Grado_Ingenieria_Industrial_e5cfa85380', fn_schema=<class 'llama_index.core.tools.types.DefaultToolFnSchema'>, return_direct=False)"
      ]
     },
     "execution_count": 26,
     "metadata": {},
     "output_type": "execute_result"
    }
   ],
   "source": [
    "tools[0].metadata"
   ]
  },
  {
   "cell_type": "code",
   "execution_count": 27,
   "metadata": {},
   "outputs": [],
   "source": [
    "from llama_index.core.agent import FunctionCallingAgentWorker\n",
    "from llama_index.core.agent import AgentRunner\n",
    "\n",
    "agent_worker = FunctionCallingAgentWorker.from_tools(\n",
    "    tool_retriever=obj_retriever,\n",
    "    llm=llm, \n",
    "    system_prompt=\"\"\" \\\n",
    "You are an agent designed to answer queries over a set of given papers.\n",
    "Please always use the tools provided to answer a question. Do not rely on prior knowledge.\\\n",
    "\n",
    "\"\"\",\n",
    "    verbose=True\n",
    ")\n",
    "agent = AgentRunner(agent_worker)"
   ]
  },
  {
   "cell_type": "code",
   "execution_count": null,
   "metadata": {},
   "outputs": [],
   "source": [
    "response = agent.query(\n",
    "    \"Tell me about the courses i will take in Business Administration \"\n",
    "    \"and then tell me about the academic quality\"\n",
    ")\n",
    "print(str(response))"
   ]
  },
  {
   "cell_type": "code",
   "execution_count": null,
   "metadata": {},
   "outputs": [],
   "source": [
    "response = agent.query(\n",
    "    \"Compare and contrast the LoRA papers (LongLoRA, LoftQ). \"\n",
    "    \"Analyze the approach in each paper first. \"\n",
    ")"
   ]
  }
 ],
 "metadata": {
  "kernelspec": {
   "display_name": "env",
   "language": "python",
   "name": "python3"
  },
  "language_info": {
   "codemirror_mode": {
    "name": "ipython",
    "version": 3
   },
   "file_extension": ".py",
   "mimetype": "text/x-python",
   "name": "python",
   "nbconvert_exporter": "python",
   "pygments_lexer": "ipython3",
   "version": "3.10.11"
  }
 },
 "nbformat": 4,
 "nbformat_minor": 2
}
