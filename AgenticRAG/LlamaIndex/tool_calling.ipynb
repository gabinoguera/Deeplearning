{
 "cells": [
  {
   "cell_type": "code",
   "execution_count": 1,
   "id": "initial_id",
   "metadata": {
    "ExecuteTime": {
     "end_time": "2024-06-21T09:29:36.092780200Z",
     "start_time": "2024-06-21T09:29:36.073641100Z"
    },
    "collapsed": true
   },
   "outputs": [],
   "source": [
    "from helper import get_openai_api_key\n",
    "OPENAI_API_KEY = get_openai_api_key()"
   ]
  },
  {
   "cell_type": "code",
   "execution_count": 2,
   "id": "ca2236b63bdb312d",
   "metadata": {
    "ExecuteTime": {
     "end_time": "2024-06-21T09:29:37.526534300Z",
     "start_time": "2024-06-21T09:29:37.516258200Z"
    },
    "collapsed": false
   },
   "outputs": [],
   "source": [
    "import nest_asyncio\n",
    "nest_asyncio.apply()"
   ]
  },
  {
   "cell_type": "markdown",
   "id": "3ef8c4e3e9aa63f7",
   "metadata": {
    "collapsed": false
   },
   "source": [
    "Define a Simple Tool"
   ]
  },
  {
   "cell_type": "code",
   "execution_count": 3,
   "id": "48232f092b706e0e",
   "metadata": {
    "ExecuteTime": {
     "end_time": "2024-06-21T09:31:09.304699300Z",
     "start_time": "2024-06-21T09:31:08.075419700Z"
    },
    "collapsed": false
   },
   "outputs": [],
   "source": [
    "from llama_index.core.tools import FunctionTool\n",
    "\n",
    "def add(x: int, y: int) -> int:\n",
    "    \"\"\"Adds two integers together.\"\"\"\n",
    "    return x + y\n",
    "\n",
    "def mystery(x: int, y: int) -> int: \n",
    "    \"\"\"Mystery function that operates on top of two numbers.\"\"\"\n",
    "    return (x + y) * (x + y)\n",
    "\n",
    "\n",
    "add_tool = FunctionTool.from_defaults(fn=add)\n",
    "mystery_tool = FunctionTool.from_defaults(fn=mystery)"
   ]
  },
  {
   "cell_type": "code",
   "execution_count": 4,
   "id": "6bda5909204a3115",
   "metadata": {
    "ExecuteTime": {
     "end_time": "2024-06-21T09:42:20.636440200Z",
     "start_time": "2024-06-21T09:42:18.834528100Z"
    },
    "collapsed": false
   },
   "outputs": [
    {
     "name": "stdout",
     "output_type": "stream",
     "text": [
      "=== Calling Function ===\n",
      "Calling function: mystery with args: {\"x\": 2, \"y\": 9}\n",
      "=== Function Output ===\n",
      "121\n",
      "121\n"
     ]
    }
   ],
   "source": [
    "from llama_index.llms.openai import OpenAI\n",
    "\n",
    "llm = OpenAI(model=\"gpt-3.5-turbo\")\n",
    "response = llm.predict_and_call(\n",
    "    [add_tool, mystery_tool], \n",
    "    \"Tell me the output of the mystery function on 2 and 9\", \n",
    "    verbose=True\n",
    ")\n",
    "print(str(response))"
   ]
  },
  {
   "cell_type": "markdown",
   "id": "4dc3a2049a9920cb",
   "metadata": {
    "collapsed": false
   },
   "source": [
    "Define an Auto-Retrieval Tool"
   ]
  },
  {
   "cell_type": "code",
   "execution_count": 8,
   "id": "154f856a4b1190f5",
   "metadata": {
    "ExecuteTime": {
     "end_time": "2024-06-21T09:44:11.994108900Z",
     "start_time": "2024-06-21T09:44:11.707345100Z"
    },
    "collapsed": false
   },
   "outputs": [],
   "source": [
    "from llama_index.core import SimpleDirectoryReader\n",
    "# load documents\n",
    "documents = SimpleDirectoryReader(input_files=[\"ing_industrial.pdf\"]).load_data()"
   ]
  },
  {
   "cell_type": "code",
   "execution_count": 10,
   "id": "86e841090f4492ec",
   "metadata": {
    "ExecuteTime": {
     "end_time": "2024-06-21T09:44:21.747306800Z",
     "start_time": "2024-06-21T09:44:21.570031800Z"
    },
    "collapsed": false
   },
   "outputs": [],
   "source": [
    "from llama_index.core.node_parser import SentenceSplitter\n",
    "splitter = SentenceSplitter(chunk_size=1024)\n",
    "nodes = splitter.get_nodes_from_documents(documents)"
   ]
  },
  {
   "cell_type": "code",
   "execution_count": 11,
   "id": "605de901163fcef",
   "metadata": {
    "ExecuteTime": {
     "end_time": "2024-06-21T09:44:25.067185Z",
     "start_time": "2024-06-21T09:44:25.055264300Z"
    },
    "collapsed": false
   },
   "outputs": [
    {
     "name": "stdout",
     "output_type": "stream",
     "text": [
      "page_label: 1\n",
      "file_name: ing_industrial.pdf\n",
      "file_path: ing_industrial.pdf\n",
      "file_type: application/pdf\n",
      "file_size: 372978\n",
      "creation_date: 2024-06-21\n",
      "last_modified_date: 2024-06-18\n",
      "\n",
      "Grado en\n",
      "Ingeniería Industrial\n",
      "Sobre el grado\n",
      "Con este grado, tu potencial te llevará a diseñar \n",
      "todos los procesos de una empresa, inﬂuir en todas sus áreas y sacar lo mejor de cada colaborador y colaboradora utilizando síntesis de la ingeniería y el diseño para evaluar y mejorar los resultados. Esta ingeniería busca instruirte en el equipamiento, energía, materiales y procesos de producción de alta calidad y servicios útiles con alta consideración al medio ambiente.\n",
      "Dónde podrás trabajar\n",
      "Con\n",
      "trol de calidad\n",
      "Asegura el cumplimiento de todas las características y herramientas de productos y servicios.\n",
      "Procesos y manufactura\n",
      "Mejora los procesos y propón estrategias sustentables de crecimiento.\n",
      "Producción\n",
      "Implementa estrategias de optimización para conseguir el rendimiento máximo de procesos industriales.\n",
      "Logística\n",
      "Demuestra tu capacidad de análisis, interpretación, comprensión, diseño, programación y control de sistemas productivos y logísticos.Lo que aprenderás\n",
      "Planes estratégicos de negociosDiseña e implementa planes estratégicos de negocios y sistemas para adaptar nuevas tecnologías, reducir desperdicios, mejorar las condiciones de trabajo y los estándares de productividad desde una perspectiva de mejores prácticas directivas y de management.\n",
      "Alineación de los procesos de negocio\n",
      "Fomenta la productividad de las empresas alineando todos sus procesos a lo largo de la cadena de suministro analizando, diseñando, implementando y manteniendo sistemas que mejorarán su eﬁciencia para balancear la producción y optimizar sus procesos.\n",
      "Desarrollo de sistemas de control\n",
      "Lidera sistemas de control para lograr objetivos determinados regulando la forma en que se comporta otro sistema para así evitar fallas. Con estos controles podrás brindar apoyo a la planeación ﬁnanciera, análisis de costos y diseñar sistemas productivos y cadenas de suministros.\n",
      "Gestión de procesos\n",
      "Aprovecha al máximo los recursos para que no haya desperdicios o mermas, reduciendo los tiempos de producción de operadores y maquinarias para aprovechar cada segundo y así maximizar las ganancias de la empresa.\n",
      "utel.edu.mx/espana\n"
     ]
    }
   ],
   "source": [
    "print(nodes[0].get_content(metadata_mode=\"all\"))"
   ]
  },
  {
   "cell_type": "code",
   "execution_count": 12,
   "id": "21a1363b58b5894",
   "metadata": {
    "ExecuteTime": {
     "end_time": "2024-06-21T09:45:40.124721200Z",
     "start_time": "2024-06-21T09:45:35.711295600Z"
    },
    "collapsed": false
   },
   "outputs": [],
   "source": [
    "from llama_index.core import VectorStoreIndex\n",
    "\n",
    "vector_index = VectorStoreIndex(nodes)\n",
    "query_engine = vector_index.as_query_engine(similarity_top_k=2)"
   ]
  },
  {
   "cell_type": "code",
   "execution_count": 13,
   "id": "916d21c409c49a37",
   "metadata": {
    "ExecuteTime": {
     "end_time": "2024-06-21T09:47:29.616032Z",
     "start_time": "2024-06-21T09:47:20.151393500Z"
    },
    "collapsed": false
   },
   "outputs": [],
   "source": [
    "from llama_index.core.vector_stores import MetadataFilters\n",
    "\n",
    "query_engine = vector_index.as_query_engine(\n",
    "    similarity_top_k=2,\n",
    "    filters=MetadataFilters.from_dicts(\n",
    "        [\n",
    "            {\"key\": \"page_label\", \"value\": \"1\"}\n",
    "        ]\n",
    "    )\n",
    ")\n",
    "\n",
    "response = query_engine.query(\n",
    "    \"Where i will work whit this profession?\", \n",
    ")"
   ]
  },
  {
   "cell_type": "code",
   "execution_count": 14,
   "id": "7877474046f4bb2",
   "metadata": {
    "ExecuteTime": {
     "end_time": "2024-06-21T09:47:32.436626800Z",
     "start_time": "2024-06-21T09:47:32.423262800Z"
    },
    "collapsed": false
   },
   "outputs": [
    {
     "name": "stdout",
     "output_type": "stream",
     "text": [
      "You will work in areas such as quality control, processes and manufacturing, production, and logistics with this profession.\n"
     ]
    }
   ],
   "source": [
    "print(str(response))"
   ]
  },
  {
   "cell_type": "code",
   "execution_count": 15,
   "id": "3e4454940bcd9d87",
   "metadata": {
    "ExecuteTime": {
     "end_time": "2024-06-21T09:48:11.785447300Z",
     "start_time": "2024-06-21T09:48:11.778428700Z"
    },
    "collapsed": false
   },
   "outputs": [
    {
     "name": "stdout",
     "output_type": "stream",
     "text": [
      "{'page_label': '1', 'file_name': 'ing_industrial.pdf', 'file_path': 'ing_industrial.pdf', 'file_type': 'application/pdf', 'file_size': 372978, 'creation_date': '2024-06-21', 'last_modified_date': '2024-06-18'}\n"
     ]
    }
   ],
   "source": [
    "for n in response.source_nodes:\n",
    "    print(n.metadata)"
   ]
  },
  {
   "cell_type": "markdown",
   "id": "cc8c78d8a0b24cea",
   "metadata": {
    "collapsed": false
   },
   "source": [
    "Define the Auto-Retrieval Tool"
   ]
  },
  {
   "cell_type": "code",
   "execution_count": 16,
   "id": "67032962e7c083cb",
   "metadata": {
    "collapsed": false
   },
   "outputs": [],
   "source": [
    "from typing import List\n",
    "from llama_index.core.vector_stores import FilterCondition\n",
    "\n",
    "\n",
    "def vector_query(\n",
    "    query: str, \n",
    "    page_numbers: List[str]\n",
    ") -> str:\n",
    "    \"\"\"Perform a vector search over an index.\n",
    "    \n",
    "    query (str): the string query to be embedded.\n",
    "    page_numbers (List[str]): Filter by set of pages. Leave BLANK if we want to perform a vector search\n",
    "        over all pages. Otherwise, filter by the set of specified pages.\n",
    "    \n",
    "    \"\"\"\n",
    "\n",
    "    metadata_dicts = [\n",
    "        {\"key\": \"page_label\", \"value\": p} for p in page_numbers\n",
    "    ]\n",
    "    \n",
    "    query_engine = vector_index.as_query_engine(\n",
    "        similarity_top_k=2,\n",
    "        filters=MetadataFilters.from_dicts(\n",
    "            metadata_dicts,\n",
    "            condition=FilterCondition.OR\n",
    "        )\n",
    "    )\n",
    "    response = query_engine.query(query)\n",
    "    return response\n",
    "    \n",
    "\n",
    "vector_query_tool = FunctionTool.from_defaults(\n",
    "    name=\"vector_tool\",\n",
    "    fn=vector_query\n",
    ")"
   ]
  },
  {
   "cell_type": "code",
   "execution_count": 18,
   "id": "c4cb5bbac045a5d6",
   "metadata": {
    "collapsed": false
   },
   "outputs": [
    {
     "name": "stdout",
     "output_type": "stream",
     "text": [
      "=== Calling Function ===\n",
      "Calling function: vector_tool with args: {\"query\": \"Why should I study in Utel?\", \"page_numbers\": [\"3\"]}\n",
      "=== Function Output ===\n",
      "You should study in Utel because of the recognized academic quality, the opportunity to graduate with a professional degree, the chance to showcase your knowledge in future job opportunities, the global community that enriches your education, the 24/7 virtual campus allowing you to create your own schedule, the quality credentials from partnerships with renowned institutions, the guidance and support from expert tutors throughout your education, the investment in yourself with real, current, and transformative training at an accessible cost, and the official recognition of studies from various accreditation bodies.\n"
     ]
    }
   ],
   "source": [
    "llm = OpenAI(model=\"gpt-3.5-turbo\", temperature=0)\n",
    "response = llm.predict_and_call(\n",
    "    [vector_query_tool], \n",
    "    \"Why i should study in Utel as described on page 3?\", \n",
    "    verbose=True\n",
    ")"
   ]
  },
  {
   "cell_type": "code",
   "execution_count": 19,
   "id": "4a50c8a0717aa290",
   "metadata": {
    "collapsed": false
   },
   "outputs": [
    {
     "name": "stdout",
     "output_type": "stream",
     "text": [
      "{'page_label': '3', 'file_name': 'ing_industrial.pdf', 'file_path': 'ing_industrial.pdf', 'file_type': 'application/pdf', 'file_size': 372978, 'creation_date': '2024-06-21', 'last_modified_date': '2024-06-18'}\n"
     ]
    }
   ],
   "source": [
    "for n in response.source_nodes:\n",
    "    print(n.metadata)"
   ]
  },
  {
   "cell_type": "markdown",
   "id": "51050d365c10a086",
   "metadata": {
    "collapsed": false
   },
   "source": [
    "Let's add some other tools"
   ]
  },
  {
   "cell_type": "code",
   "execution_count": 20,
   "id": "eefc24180e0d272c",
   "metadata": {
    "collapsed": false
   },
   "outputs": [],
   "source": [
    "from llama_index.core import SummaryIndex\n",
    "from llama_index.core.tools import QueryEngineTool\n",
    "\n",
    "summary_index = SummaryIndex(nodes)\n",
    "summary_query_engine = summary_index.as_query_engine(\n",
    "    response_mode=\"tree_summarize\",\n",
    "    use_async=True,\n",
    ")\n",
    "summary_tool = QueryEngineTool.from_defaults(\n",
    "    name=\"summary_tool\",\n",
    "    query_engine=summary_query_engine,\n",
    "    description=(\n",
    "        \"Useful if you want to get a summary of ing_industrial\"\n",
    "    ),\n",
    ")"
   ]
  },
  {
   "cell_type": "code",
   "execution_count": 21,
   "id": "6cab366034945d57",
   "metadata": {
    "collapsed": false
   },
   "outputs": [
    {
     "name": "stdout",
     "output_type": "stream",
     "text": [
      "=== Calling Function ===\n",
      "Calling function: summary_tool with args: {\"input\": \"Academic Validity on page 2\"}\n",
      "=== Function Output ===\n",
      "The academic validity of the program is recognized by being incorporated into the National Educational System, with an official title granted by the Mexican Ministry of Education. Additionally, graduates of the Industrial Engineering program from Utel can obtain academic equivalence in the United States as a \"Bachelor of Science in Industrial Engineering earned through distance education\" through specific agencies affiliated with NACES or AICE.\n"
     ]
    }
   ],
   "source": [
    "response = llm.predict_and_call(\n",
    "    [vector_query_tool, summary_tool], \n",
    "    \"What are the Academic Validity described on page 2?\", \n",
    "    verbose=True\n",
    ")"
   ]
  },
  {
   "cell_type": "code",
   "execution_count": 22,
   "id": "2ef2a160dfecaa42",
   "metadata": {
    "collapsed": false
   },
   "outputs": [
    {
     "name": "stdout",
     "output_type": "stream",
     "text": [
      "{'page_label': '1', 'file_name': 'ing_industrial.pdf', 'file_path': 'ing_industrial.pdf', 'file_type': 'application/pdf', 'file_size': 372978, 'creation_date': '2024-06-21', 'last_modified_date': '2024-06-18'}\n",
      "{'page_label': '2', 'file_name': 'ing_industrial.pdf', 'file_path': 'ing_industrial.pdf', 'file_type': 'application/pdf', 'file_size': 372978, 'creation_date': '2024-06-21', 'last_modified_date': '2024-06-18'}\n",
      "{'page_label': '3', 'file_name': 'ing_industrial.pdf', 'file_path': 'ing_industrial.pdf', 'file_type': 'application/pdf', 'file_size': 372978, 'creation_date': '2024-06-21', 'last_modified_date': '2024-06-18'}\n"
     ]
    }
   ],
   "source": [
    "for n in response.source_nodes:\n",
    "    print(n.metadata)"
   ]
  },
  {
   "cell_type": "code",
   "execution_count": 23,
   "id": "71014c08f4b90022",
   "metadata": {
    "collapsed": false
   },
   "outputs": [
    {
     "name": "stdout",
     "output_type": "stream",
     "text": [
      "=== Calling Function ===\n",
      "Calling function: summary_tool with args: {\"input\": \"ing_industrial\"}\n",
      "=== Function Output ===\n",
      "The Bachelor of Science in Industrial Engineering program offered by Utel provides students with the knowledge and skills to design processes within a company, influence various areas, and optimize the performance of collaborators. Graduates can work in quality control, process improvement, production optimization, and logistics management. The program covers strategic business planning, business process alignment, control systems development, and process management. Additionally, the degree is officially recognized in Mexico and can be equivalent to a Bachelor of Science in Industrial Engineering in the United States. Students can specialize in areas such as administration, information technology, and finance, and the curriculum includes subjects like industry structure, algebra, physics, statistics, engineering methods, and quality control. The program offers a flexible international schedule and emphasizes workshops on employability, social impact, and digital skills. Graduates benefit from Utel's academic quality, global community, 24/7 virtual campus, and support from expert tutors. The institution is accredited by various organizations and offers accessible and transformative education.\n"
     ]
    }
   ],
   "source": [
    "response = llm.predict_and_call(\n",
    "    [vector_query_tool, summary_tool], \n",
    "    \"What is a summary of the paper?\", \n",
    "    verbose=True\n",
    ")"
   ]
  }
 ],
 "metadata": {
  "kernelspec": {
   "display_name": "Python 3",
   "language": "python",
   "name": "python3"
  },
  "language_info": {
   "codemirror_mode": {
    "name": "ipython",
    "version": 3
   },
   "file_extension": ".py",
   "mimetype": "text/x-python",
   "name": "python",
   "nbconvert_exporter": "python",
   "pygments_lexer": "ipython3",
   "version": "3.10.11"
  }
 },
 "nbformat": 4,
 "nbformat_minor": 5
}
