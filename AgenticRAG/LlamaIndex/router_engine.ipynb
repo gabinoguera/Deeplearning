{
 "cells": [
  {
   "cell_type": "code",
   "execution_count": 1,
   "id": "initial_id",
   "metadata": {
    "collapsed": true,
    "ExecuteTime": {
     "end_time": "2024-06-21T07:56:03.283943300Z",
     "start_time": "2024-06-21T07:56:03.275941800Z"
    }
   },
   "outputs": [],
   "source": [
    "from helper import get_openai_api_key\n",
    "\n",
    "OPENAI_API_KEY = get_openai_api_key()"
   ]
  },
  {
   "cell_type": "code",
   "execution_count": 2,
   "outputs": [],
   "source": [
    "import nest_asyncio\n",
    "\n",
    "nest_asyncio.apply()"
   ],
   "metadata": {
    "collapsed": false,
    "ExecuteTime": {
     "end_time": "2024-06-21T07:56:13.862607100Z",
     "start_time": "2024-06-21T07:56:13.842364600Z"
    }
   },
   "id": "b44ab4a7e0d7a35c"
  },
  {
   "cell_type": "code",
   "execution_count": 4,
   "outputs": [],
   "source": [
    "from llama_index.core import SimpleDirectoryReader\n",
    "\n",
    "# load documents\n",
    "documents = SimpleDirectoryReader(input_files=[\"ing_industrial.pdf\"]).load_data()"
   ],
   "metadata": {
    "collapsed": false,
    "ExecuteTime": {
     "end_time": "2024-06-21T07:58:55.881824600Z",
     "start_time": "2024-06-21T07:58:55.576368800Z"
    }
   },
   "id": "59ccf4fefd4e8924"
  },
  {
   "cell_type": "markdown",
   "source": [
    "Define LLM and Embedding model"
   ],
   "metadata": {
    "collapsed": false
   },
   "id": "79ddf37cfb149f50"
  },
  {
   "cell_type": "code",
   "execution_count": 5,
   "outputs": [],
   "source": [
    "from llama_index.core.node_parser import SentenceSplitter\n",
    "\n",
    "splitter = SentenceSplitter(chunk_size=1024)\n",
    "nodes = splitter.get_nodes_from_documents(documents)"
   ],
   "metadata": {
    "collapsed": false,
    "ExecuteTime": {
     "end_time": "2024-06-21T07:59:00.179370200Z",
     "start_time": "2024-06-21T07:58:59.992820700Z"
    }
   },
   "id": "fd24e47861beb22e"
  },
  {
   "cell_type": "code",
   "execution_count": 6,
   "outputs": [],
   "source": [
    "from llama_index.core import Settings\n",
    "from llama_index.llms.openai import OpenAI\n",
    "from llama_index.embeddings.openai import OpenAIEmbedding\n",
    "\n",
    "Settings.llm = OpenAI(model=\"gpt-3.5-turbo\")\n",
    "Settings.embed_model = OpenAIEmbedding(model=\"text-embedding-ada-002\")"
   ],
   "metadata": {
    "collapsed": false,
    "ExecuteTime": {
     "end_time": "2024-06-21T07:59:08.531215200Z",
     "start_time": "2024-06-21T07:59:08.520377400Z"
    }
   },
   "id": "18fa88ce5ec07352"
  },
  {
   "cell_type": "markdown",
   "source": [
    "Define Summary Index and Vector Index over the Same Data"
   ],
   "metadata": {
    "collapsed": false
   },
   "id": "fff70ecf454877f3"
  },
  {
   "cell_type": "code",
   "execution_count": 7,
   "outputs": [],
   "source": [
    "from llama_index.core import SummaryIndex, VectorStoreIndex\n",
    "\n",
    "summary_index = SummaryIndex(nodes)\n",
    "vector_index = VectorStoreIndex(nodes)"
   ],
   "metadata": {
    "collapsed": false,
    "ExecuteTime": {
     "end_time": "2024-06-21T08:02:00.875693300Z",
     "start_time": "2024-06-21T08:02:00.341446500Z"
    }
   },
   "id": "5aceb517ae68e0d6"
  },
  {
   "cell_type": "markdown",
   "source": [
    "Define Query Engines and Set Metadata"
   ],
   "metadata": {
    "collapsed": false
   },
   "id": "8d299108b5a71001"
  },
  {
   "cell_type": "code",
   "execution_count": 8,
   "outputs": [],
   "source": [
    "summary_query_engine = summary_index.as_query_engine(\n",
    "    response_mode=\"tree_summarize\",\n",
    "    use_async=True,\n",
    ")\n",
    "vector_query_engine = vector_index.as_query_engine()"
   ],
   "metadata": {
    "collapsed": false,
    "ExecuteTime": {
     "end_time": "2024-06-21T08:02:44.803278100Z",
     "start_time": "2024-06-21T08:02:44.793740400Z"
    }
   },
   "id": "d70a4cc90d3d6a23"
  },
  {
   "cell_type": "code",
   "execution_count": 9,
   "outputs": [],
   "source": [
    "from llama_index.core.tools import QueryEngineTool\n",
    "\n",
    "\n",
    "summary_tool = QueryEngineTool.from_defaults(\n",
    "    query_engine=summary_query_engine,\n",
    "    description=(\n",
    "        \"Useful for summarization questions related to the careers\"\n",
    "    ),\n",
    ")\n",
    "\n",
    "vector_tool = QueryEngineTool.from_defaults(\n",
    "    query_engine=vector_query_engine,\n",
    "    description=(\n",
    "        \"Useful for retrieving specific context from the careers paper.\"\n",
    "    ),\n",
    ")"
   ],
   "metadata": {
    "collapsed": false,
    "ExecuteTime": {
     "end_time": "2024-06-21T08:04:03.623772500Z",
     "start_time": "2024-06-21T08:04:03.606558500Z"
    }
   },
   "id": "f1dcad72c809057e"
  },
  {
   "cell_type": "markdown",
   "source": [
    "Define Router Query Engine"
   ],
   "metadata": {
    "collapsed": false
   },
   "id": "2345921f564f0c62"
  },
  {
   "cell_type": "code",
   "execution_count": 10,
   "outputs": [],
   "source": [
    "from llama_index.core.query_engine.router_query_engine import RouterQueryEngine\n",
    "from llama_index.core.selectors import LLMSingleSelector\n",
    "\n",
    "\n",
    "query_engine = RouterQueryEngine(\n",
    "    selector=LLMSingleSelector.from_defaults(),\n",
    "    query_engine_tools=[\n",
    "        summary_tool,\n",
    "        vector_tool,\n",
    "    ],\n",
    "    verbose=True\n",
    ")"
   ],
   "metadata": {
    "collapsed": false,
    "ExecuteTime": {
     "end_time": "2024-06-21T08:07:18.130765900Z",
     "start_time": "2024-06-21T08:07:18.116962700Z"
    }
   },
   "id": "a3b4c6434bfa6ebe"
  },
  {
   "cell_type": "code",
   "execution_count": 11,
   "outputs": [
    {
     "name": "stdout",
     "output_type": "stream",
     "text": [
      "\u001B[1;3;38;5;200mSelecting query engine 0: This choice indicates that the document is useful for summarization questions related to careers..\n",
      "\u001B[0mThe document provides information about the Bachelor's Degree in Industrial Engineering offered by Utel. It covers the program's objectives, areas of study, career opportunities, academic validation, equivalency in the United States, areas of concentration, total credits, subjects, available experiences, and the quality of education provided by Utel. The degree focuses on preparing students to design processes, influence all areas of a company, and optimize production processes while considering environmental impact. It also highlights the various career paths graduates can pursue, the academic recognition of the program, and the global community and support available to students.\n"
     ]
    }
   ],
   "source": [
    "response = query_engine.query(\"What is the summary of the document?\")\n",
    "print(str(response))"
   ],
   "metadata": {
    "collapsed": false,
    "ExecuteTime": {
     "end_time": "2024-06-21T08:07:58.314976Z",
     "start_time": "2024-06-21T08:07:54.184357Z"
    }
   },
   "id": "5cabf363c8435188"
  },
  {
   "cell_type": "code",
   "execution_count": 12,
   "outputs": [
    {
     "name": "stdout",
     "output_type": "stream",
     "text": [
      "3\n"
     ]
    }
   ],
   "source": [
    "print(len(response.source_nodes))"
   ],
   "metadata": {
    "collapsed": false,
    "ExecuteTime": {
     "end_time": "2024-06-21T08:08:54.416934600Z",
     "start_time": "2024-06-21T08:08:54.409861Z"
    }
   },
   "id": "9a8875cd3ac82669"
  },
  {
   "cell_type": "code",
   "execution_count": 13,
   "outputs": [
    {
     "name": "stdout",
     "output_type": "stream",
     "text": [
      "\u001B[1;3;38;5;200mSelecting query engine 0: The Industrial Engineering Degree is related to careers and involves summarizing information about various aspects of the field..\n",
      "\u001B[0mYou will learn about strategic business planning, business process alignment, control systems development, process management, quality control, manufacturing processes, logistics, and waste reduction. Additionally, you will gain knowledge in equipment, energy, materials, and high-quality production processes with a focus on environmental considerations.\n"
     ]
    }
   ],
   "source": [
    "response = query_engine.query(\n",
    "    \"What i´m going to learn in the Industrial Engineering Degree\"\n",
    ")\n",
    "print(str(response))"
   ],
   "metadata": {
    "collapsed": false,
    "ExecuteTime": {
     "end_time": "2024-06-21T08:11:20.226991900Z",
     "start_time": "2024-06-21T08:11:17.369933700Z"
    }
   },
   "id": "db582e93329f353a"
  },
  {
   "cell_type": "markdown",
   "source": [
    "Let's put everything together"
   ],
   "metadata": {
    "collapsed": false
   },
   "id": "2305fca2fc15f97d"
  },
  {
   "cell_type": "code",
   "execution_count": 15,
   "outputs": [],
   "source": [
    "from utils import get_router_query_engine\n",
    "\n",
    "query_engine = get_router_query_engine(\"ing_industrial.pdf\")"
   ],
   "metadata": {
    "collapsed": false,
    "ExecuteTime": {
     "end_time": "2024-06-21T08:13:40.333332900Z",
     "start_time": "2024-06-21T08:13:39.641504400Z"
    }
   },
   "id": "a44b66b57107fd98"
  },
  {
   "cell_type": "code",
   "execution_count": 16,
   "outputs": [
    {
     "name": "stdout",
     "output_type": "stream",
     "text": [
      "\u001B[1;3;38;5;200mSelecting query engine 1: The question is asking for specific information about where to work, which aligns more closely with retrieving specific context from the MetaGPT paper..\n",
      "\u001B[0mYou can work in various fields such as administration, information technology, finance, and industrial processes after completing the Bachelor of Science in Industrial Engineering program from Utel.\n"
     ]
    }
   ],
   "source": [
    "response = query_engine.query(\"Were can i work?\")\n",
    "print(str(response))"
   ],
   "metadata": {
    "collapsed": false,
    "ExecuteTime": {
     "end_time": "2024-06-21T08:14:14.213027700Z",
     "start_time": "2024-06-21T08:14:11.261172300Z"
    }
   },
   "id": "a3f3f9e636e4fdc6"
  },
  {
   "cell_type": "code",
   "execution_count": null,
   "outputs": [],
   "source": [],
   "metadata": {
    "collapsed": false
   },
   "id": "7fa3e2619bcb123a"
  }
 ],
 "metadata": {
  "kernelspec": {
   "display_name": "Python 3",
   "language": "python",
   "name": "python3"
  },
  "language_info": {
   "codemirror_mode": {
    "name": "ipython",
    "version": 2
   },
   "file_extension": ".py",
   "mimetype": "text/x-python",
   "name": "python",
   "nbconvert_exporter": "python",
   "pygments_lexer": "ipython2",
   "version": "2.7.6"
  }
 },
 "nbformat": 4,
 "nbformat_minor": 5
}
