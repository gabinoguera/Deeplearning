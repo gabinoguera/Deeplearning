{
 "cells": [
  {
   "cell_type": "code",
   "execution_count": 1,
   "id": "a475db9f",
   "metadata": {},
   "outputs": [],
   "source": [
    "from transformers.utils import logging\n",
    "logging.set_verbosity_error()"
   ]
  },
  {
   "cell_type": "code",
   "execution_count": 2,
   "id": "6db011b3",
   "metadata": {},
   "outputs": [],
   "source": [
    "from datasets import load_dataset"
   ]
  },
  {
   "cell_type": "code",
   "execution_count": 3,
   "id": "001a804b",
   "metadata": {},
   "outputs": [],
   "source": [
    "dataset = load_dataset(\"librispeech_asr\",\n",
    "                       split=\"train.clean.100\",\n",
    "                       streaming=True,\n",
    "                       trust_remote_code=True)"
   ]
  },
  {
   "cell_type": "code",
   "execution_count": 5,
   "id": "e0400e87",
   "metadata": {},
   "outputs": [],
   "source": [
    "from transformers import pipeline"
   ]
  },
  {
   "cell_type": "code",
   "execution_count": 6,
   "id": "83a81fc0",
   "metadata": {},
   "outputs": [
    {
     "name": "stdout",
     "output_type": "stream",
     "text": [
      "WARNING:tensorflow:From c:\\Users\\gabriel.hernan\\Desktop\\papeles personales\\Deeplearning\\hugging\\env\\lib\\site-packages\\tf_keras\\src\\losses.py:2976: The name tf.losses.sparse_softmax_cross_entropy is deprecated. Please use tf.compat.v1.losses.sparse_softmax_cross_entropy instead.\n",
      "\n"
     ]
    }
   ],
   "source": [
    "asr = pipeline(task=\"automatic-speech-recognition\",\n",
    "               model=\"./models/openai/whisper-large-v3\")"
   ]
  },
  {
   "cell_type": "code",
   "execution_count": 9,
   "id": "39e4e38c",
   "metadata": {},
   "outputs": [],
   "source": [
    "import os\n",
    "import gradio as gr"
   ]
  },
  {
   "cell_type": "code",
   "execution_count": 10,
   "id": "0e3640aa",
   "metadata": {},
   "outputs": [],
   "source": [
    "demo = gr.Blocks()"
   ]
  },
  {
   "cell_type": "code",
   "execution_count": 11,
   "id": "4724d6b2",
   "metadata": {},
   "outputs": [],
   "source": [
    "def transcribe_speech(filepath):\n",
    "    if filepath is None:\n",
    "        gr.Warning(\"No audio found, please retry.\")\n",
    "        return \"\"\n",
    "    output = asr(filepath)\n",
    "    return output[\"text\"]"
   ]
  },
  {
   "cell_type": "code",
   "execution_count": 12,
   "id": "b9b92a54",
   "metadata": {},
   "outputs": [],
   "source": [
    "mic_transcribe = gr.Interface(\n",
    "    fn=transcribe_speech,\n",
    "    inputs=gr.Audio(sources=\"microphone\",\n",
    "                    type=\"filepath\"),\n",
    "    outputs=gr.Textbox(label=\"Transcription\",\n",
    "                       lines=3),\n",
    "    allow_flagging=\"never\")"
   ]
  },
  {
   "cell_type": "code",
   "execution_count": 13,
   "id": "154e59c5",
   "metadata": {},
   "outputs": [],
   "source": [
    "file_transcribe = gr.Interface(\n",
    "    fn=transcribe_speech,\n",
    "    inputs=gr.Audio(sources=\"upload\",\n",
    "                    type=\"filepath\"),\n",
    "    outputs=gr.Textbox(label=\"Transcription\",\n",
    "                       lines=3),\n",
    "    allow_flagging=\"never\",\n",
    ")"
   ]
  },
  {
   "cell_type": "code",
   "execution_count": 19,
   "id": "ffa0a6a8",
   "metadata": {},
   "outputs": [],
   "source": [
    "# Create the Blocks interface\n",
    "with gr.Blocks() as demo:\n",
    "    with gr.Tab(\"Transcribe Microphone\"):\n",
    "        with gr.Group():\n",
    "            mic_input = gr.Audio(sources=\"microphone\", type=\"filepath\")\n",
    "        with gr.Group():\n",
    "            mic_output = gr.Textbox(label=\"Transcription\", lines=3)\n",
    "        mic_input.change(transcribe_speech, inputs=[mic_input], outputs=[mic_output])\n",
    "    \n",
    "    with gr.Tab(\"Transcribe Audio File\"):\n",
    "        with gr.Group():\n",
    "            file_input = gr.Audio(sources=\"upload\", type=\"filepath\")\n",
    "        with gr.Group():\n",
    "            file_output = gr.Textbox(label=\"Transcription\", lines=3)\n",
    "        file_input.change(transcribe_speech, inputs=[file_input], outputs=[file_output])\n"
   ]
  },
  {
   "cell_type": "code",
   "execution_count": null,
   "id": "a0c89803",
   "metadata": {},
   "outputs": [],
   "source": [
    "demo.launch(share=True)"
   ]
  },
  {
   "cell_type": "code",
   "execution_count": 23,
   "id": "b9934350",
   "metadata": {},
   "outputs": [
    {
     "name": "stdout",
     "output_type": "stream",
     "text": [
      "Closing server running on port: 7860\n"
     ]
    }
   ],
   "source": [
    "demo.close()"
   ]
  }
 ],
 "metadata": {
  "kernelspec": {
   "display_name": "Python 3",
   "language": "python",
   "name": "python3"
  },
  "language_info": {
   "codemirror_mode": {
    "name": "ipython",
    "version": 3
   },
   "file_extension": ".py",
   "mimetype": "text/x-python",
   "name": "python",
   "nbconvert_exporter": "python",
   "pygments_lexer": "ipython3",
   "version": "3.10.11"
  }
 },
 "nbformat": 4,
 "nbformat_minor": 5
}
