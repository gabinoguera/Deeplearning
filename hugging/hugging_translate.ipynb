{
 "cells": [
  {
   "cell_type": "code",
   "execution_count": 1,
   "id": "initial_id",
   "metadata": {
    "collapsed": true,
    "ExecuteTime": {
     "end_time": "2024-05-28T14:51:07.508312800Z",
     "start_time": "2024-05-28T14:51:03.832994700Z"
    }
   },
   "outputs": [],
   "source": [
    "from transformers.utils import logging\n",
    "logging.set_verbosity_error()"
   ]
  },
  {
   "cell_type": "markdown",
   "source": [
    "### Build the `translation` pipeline using 🤗 Transformers Library"
   ],
   "metadata": {
    "collapsed": false
   },
   "id": "46ddf618dabede7a"
  },
  {
   "cell_type": "code",
   "execution_count": 2,
   "outputs": [],
   "source": [
    "from transformers import pipeline \n",
    "import torch\n",
    "from transformers import M2M100ForConditionalGeneration, M2M100Tokenizer"
   ],
   "metadata": {
    "collapsed": false,
    "ExecuteTime": {
     "end_time": "2024-05-28T14:51:20.007511400Z",
     "start_time": "2024-05-28T14:51:09.632796300Z"
    }
   },
   "id": "1d38da25fa24d8c6"
  },
  {
   "cell_type": "code",
   "execution_count": 3,
   "outputs": [],
   "source": [
    "translator = pipeline(task=\"translation\",\n",
    "                      model=\"./models/facebook/nllb-200-distilled-600M\",\n",
    "                      torch_dtype=torch.bfloat16) "
   ],
   "metadata": {
    "collapsed": false,
    "ExecuteTime": {
     "end_time": "2024-05-28T14:51:25.604571300Z",
     "start_time": "2024-05-28T14:51:22.398260100Z"
    }
   },
   "id": "6149b774fa30c2e3"
  },
  {
   "cell_type": "code",
   "execution_count": 4,
   "outputs": [],
   "source": [
    "text = \"\"\"\\\n",
    "My puppy is adorable, \\\n",
    "Your kitten is cute.\n",
    "Her panda is friendly.\n",
    "His llama is thoughtful. \\\n",
    "We all have nice pets!\"\"\""
   ],
   "metadata": {
    "collapsed": false,
    "ExecuteTime": {
     "end_time": "2024-05-28T14:51:28.172436200Z",
     "start_time": "2024-05-28T14:51:28.160096700Z"
    }
   },
   "id": "5b03fa54b4e15387"
  },
  {
   "cell_type": "code",
   "execution_count": 5,
   "outputs": [],
   "source": [
    "text_translated = translator(text,\n",
    "                             src_lang=\"eng_Latn\",\n",
    "                             tgt_lang=\"fra_Latn\")"
   ],
   "metadata": {
    "collapsed": false,
    "ExecuteTime": {
     "end_time": "2024-05-28T14:51:49.019689400Z",
     "start_time": "2024-05-28T14:51:30.907492100Z"
    }
   },
   "id": "bf2b407279c50de5"
  },
  {
   "cell_type": "code",
   "execution_count": 6,
   "outputs": [
    {
     "data": {
      "text/plain": "[{'translation_text': 'Mon chiot est adorable, ton chaton est mignon, son panda est ami, sa lamme est attentive, nous avons tous de beaux animaux de compagnie.'}]"
     },
     "execution_count": 6,
     "metadata": {},
     "output_type": "execute_result"
    }
   ],
   "source": [
    "text_translated"
   ],
   "metadata": {
    "collapsed": false,
    "ExecuteTime": {
     "end_time": "2024-05-28T14:52:08.342344900Z",
     "start_time": "2024-05-28T14:52:08.329611600Z"
    }
   },
   "id": "6cc4824a3d4f25d0"
  },
  {
   "cell_type": "markdown",
   "source": [
    "Liberar memoria"
   ],
   "metadata": {
    "collapsed": false
   },
   "id": "12184c2bddd9b9ba"
  },
  {
   "cell_type": "code",
   "execution_count": 7,
   "outputs": [],
   "source": [
    "import gc"
   ],
   "metadata": {
    "collapsed": false,
    "ExecuteTime": {
     "end_time": "2024-05-28T14:54:09.179553300Z",
     "start_time": "2024-05-28T14:54:09.150292900Z"
    }
   },
   "id": "630339a82888bd37"
  },
  {
   "cell_type": "code",
   "execution_count": 8,
   "outputs": [],
   "source": [
    "del translator"
   ],
   "metadata": {
    "collapsed": false,
    "ExecuteTime": {
     "end_time": "2024-05-28T14:54:09.837919600Z",
     "start_time": "2024-05-28T14:54:09.790013400Z"
    }
   },
   "id": "9c343effaf40a49f"
  },
  {
   "cell_type": "code",
   "execution_count": 9,
   "outputs": [
    {
     "data": {
      "text/plain": "25"
     },
     "execution_count": 9,
     "metadata": {},
     "output_type": "execute_result"
    }
   ],
   "source": [
    "gc.collect()"
   ],
   "metadata": {
    "collapsed": false,
    "ExecuteTime": {
     "end_time": "2024-05-28T14:54:10.514077300Z",
     "start_time": "2024-05-28T14:54:10.347805200Z"
    }
   },
   "id": "636bcd011845c560"
  },
  {
   "cell_type": "code",
   "execution_count": null,
   "outputs": [],
   "source": [],
   "metadata": {
    "collapsed": false
   },
   "id": "840304dac79fc1bf"
  }
 ],
 "metadata": {
  "kernelspec": {
   "display_name": "Python 3",
   "language": "python",
   "name": "python3"
  },
  "language_info": {
   "codemirror_mode": {
    "name": "ipython",
    "version": 2
   },
   "file_extension": ".py",
   "mimetype": "text/x-python",
   "name": "python",
   "nbconvert_exporter": "python",
   "pygments_lexer": "ipython2",
   "version": "2.7.6"
  }
 },
 "nbformat": 4,
 "nbformat_minor": 5
}
