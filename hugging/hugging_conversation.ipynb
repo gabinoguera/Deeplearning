{
 "cells": [
  {
   "cell_type": "code",
   "execution_count": 3,
   "id": "initial_id",
   "metadata": {
    "collapsed": true,
    "ExecuteTime": {
     "end_time": "2024-05-21T08:31:13.475516300Z",
     "start_time": "2024-05-21T08:31:13.461952500Z"
    }
   },
   "outputs": [],
   "source": [
    "from transformers import pipeline"
   ]
  },
  {
   "cell_type": "code",
   "execution_count": 4,
   "outputs": [
    {
     "name": "stdout",
     "output_type": "stream",
     "text": [
      "WARNING:tensorflow:From C:\\Users\\gabriel.hernan\\Desktop\\papeles personales\\Deeplearning\\hugging\\env\\lib\\site-packages\\tf_keras\\src\\losses.py:2976: The name tf.losses.sparse_softmax_cross_entropy is deprecated. Please use tf.compat.v1.losses.sparse_softmax_cross_entropy instead.\n",
      "WARNING:tensorflow:From C:\\Users\\gabriel.hernan\\Desktop\\papeles personales\\Deeplearning\\hugging\\env\\lib\\site-packages\\tf_keras\\src\\backend.py:873: The name tf.get_default_graph is deprecated. Please use tf.compat.v1.get_default_graph instead.\n"
     ]
    },
    {
     "name": "stderr",
     "output_type": "stream",
     "text": [
      "All model checkpoint layers were used when initializing TFBlenderbotForConditionalGeneration.\n",
      "\n",
      "Some layers of TFBlenderbotForConditionalGeneration were not initialized from the model checkpoint at ./models/facebook/blenderbot-400M-distill and are newly initialized: ['final_logits_bias']\n",
      "You should probably TRAIN this model on a down-stream task to be able to use it for predictions and inference.\n"
     ]
    }
   ],
   "source": [
    "chatbot = pipeline(task=\"conversational\",\n",
    "                   model=\"./models/facebook/blenderbot-400M-distill\")"
   ],
   "metadata": {
    "collapsed": false,
    "ExecuteTime": {
     "end_time": "2024-05-21T08:31:17.989098100Z",
     "start_time": "2024-05-21T08:31:14.331498400Z"
    }
   },
   "id": "3af10009de3ebd34"
  },
  {
   "cell_type": "code",
   "execution_count": 5,
   "outputs": [],
   "source": [
    "user_message = \"\"\"\n",
    "What are some fun activities I can do in the winter?\n",
    "\"\"\""
   ],
   "metadata": {
    "collapsed": false,
    "ExecuteTime": {
     "end_time": "2024-05-21T08:32:20.124486Z",
     "start_time": "2024-05-21T08:32:20.115335900Z"
    }
   },
   "id": "ee0f1e3cfe164f22"
  },
  {
   "cell_type": "code",
   "execution_count": 6,
   "outputs": [],
   "source": [
    "from transformers import Conversation"
   ],
   "metadata": {
    "collapsed": false,
    "ExecuteTime": {
     "end_time": "2024-05-21T08:32:21.557349800Z",
     "start_time": "2024-05-21T08:32:21.546032400Z"
    }
   },
   "id": "ff3cdc6132d5c9b9"
  },
  {
   "cell_type": "code",
   "execution_count": 7,
   "outputs": [],
   "source": [
    "conversation = Conversation(user_message)"
   ],
   "metadata": {
    "collapsed": false,
    "ExecuteTime": {
     "end_time": "2024-05-21T08:32:22.319279100Z",
     "start_time": "2024-05-21T08:32:22.305304600Z"
    }
   },
   "id": "63df5bd786e78eb0"
  },
  {
   "cell_type": "code",
   "execution_count": 8,
   "outputs": [
    {
     "name": "stdout",
     "output_type": "stream",
     "text": [
      "Conversation id: b85215c5-a99c-4cbb-a31b-42dedf8f6f7f\n",
      "user: \n",
      "What are some fun activities I can do in the winter?\n"
     ]
    }
   ],
   "source": [
    "print(conversation)"
   ],
   "metadata": {
    "collapsed": false,
    "ExecuteTime": {
     "end_time": "2024-05-21T08:32:23.088673Z",
     "start_time": "2024-05-21T08:32:23.075677100Z"
    }
   },
   "id": "b98e3e5965f6a7e0"
  },
  {
   "cell_type": "code",
   "execution_count": 9,
   "outputs": [
    {
     "name": "stderr",
     "output_type": "stream",
     "text": [
      "No chat template is set for this tokenizer, falling back to a default class-level template. This is very error-prone, because models are often trained with templates different from the class default! Default chat templates are a legacy feature and will be removed in Transformers v4.43, at which point any code depending on them will stop working. We recommend setting a valid chat template before then to ensure that this model continues working without issues.\n"
     ]
    }
   ],
   "source": [
    "conversation = chatbot(conversation)"
   ],
   "metadata": {
    "collapsed": false,
    "ExecuteTime": {
     "end_time": "2024-05-21T08:32:34.870378600Z",
     "start_time": "2024-05-21T08:32:26.904161Z"
    }
   },
   "id": "a9de7880287a784a"
  },
  {
   "cell_type": "code",
   "execution_count": 10,
   "outputs": [
    {
     "name": "stdout",
     "output_type": "stream",
     "text": [
      "Conversation id: b85215c5-a99c-4cbb-a31b-42dedf8f6f7f\n",
      "user: \n",
      "What are some fun activities I can do in the winter?\n",
      "\n",
      "assistant:  I like to go snowboarding in the winter.  It's a lot of fun.\n"
     ]
    }
   ],
   "source": [
    "print(conversation)"
   ],
   "metadata": {
    "collapsed": false,
    "ExecuteTime": {
     "end_time": "2024-05-21T08:32:38.623653500Z",
     "start_time": "2024-05-21T08:32:38.609515300Z"
    }
   },
   "id": "1917fe0272c2621"
  },
  {
   "cell_type": "code",
   "execution_count": 11,
   "outputs": [],
   "source": [
    "conversation.add_message(\n",
    "    {\"role\": \"user\",\n",
    "     \"content\": \"\"\"\n",
    "What else do you recommend?\n",
    "\"\"\"\n",
    "    })"
   ],
   "metadata": {
    "collapsed": false,
    "ExecuteTime": {
     "end_time": "2024-05-21T09:31:21.236250800Z",
     "start_time": "2024-05-21T09:31:21.223713400Z"
    }
   },
   "id": "a20243a439495d8e"
  },
  {
   "cell_type": "code",
   "execution_count": 12,
   "outputs": [
    {
     "name": "stdout",
     "output_type": "stream",
     "text": [
      "Conversation id: b85215c5-a99c-4cbb-a31b-42dedf8f6f7f\n",
      "user: \n",
      "What are some fun activities I can do in the winter?\n",
      "\n",
      "assistant:  I like to go snowboarding in the winter.  It's a lot of fun.\n",
      "user: \n",
      "What else do you recommend?\n"
     ]
    }
   ],
   "source": [
    "print(conversation)\n"
   ],
   "metadata": {
    "collapsed": false,
    "ExecuteTime": {
     "end_time": "2024-05-21T09:31:21.988405500Z",
     "start_time": "2024-05-21T09:31:21.980669100Z"
    }
   },
   "id": "65ca9750e5edf794"
  },
  {
   "cell_type": "code",
   "execution_count": 13,
   "outputs": [],
   "source": [
    "conversation = chatbot(conversation)\n"
   ],
   "metadata": {
    "collapsed": false,
    "ExecuteTime": {
     "end_time": "2024-05-21T09:31:39.153190200Z",
     "start_time": "2024-05-21T09:31:27.612202Z"
    }
   },
   "id": "93f71e8c16ae3b15"
  },
  {
   "cell_type": "code",
   "execution_count": 14,
   "outputs": [
    {
     "name": "stdout",
     "output_type": "stream",
     "text": [
      "Conversation id: b85215c5-a99c-4cbb-a31b-42dedf8f6f7f\n",
      "user: \n",
      "What are some fun activities I can do in the winter?\n",
      "\n",
      "assistant:  I like to go snowboarding in the winter.  It's a lot of fun.\n",
      "user: \n",
      "What else do you recommend?\n",
      "\n",
      "assistant:  Snowboarding is a lot of fun.  You should try it sometime.\n"
     ]
    }
   ],
   "source": [
    "print(conversation)"
   ],
   "metadata": {
    "collapsed": false,
    "ExecuteTime": {
     "end_time": "2024-05-21T09:31:40.655248600Z",
     "start_time": "2024-05-21T09:31:40.646022900Z"
    }
   },
   "id": "c88434bf1df0a093"
  },
  {
   "cell_type": "code",
   "execution_count": null,
   "outputs": [],
   "source": [],
   "metadata": {
    "collapsed": false
   },
   "id": "d4ff4eeac3759e93"
  }
 ],
 "metadata": {
  "kernelspec": {
   "display_name": "Python 3",
   "language": "python",
   "name": "python3"
  },
  "language_info": {
   "codemirror_mode": {
    "name": "ipython",
    "version": 2
   },
   "file_extension": ".py",
   "mimetype": "text/x-python",
   "name": "python",
   "nbconvert_exporter": "python",
   "pygments_lexer": "ipython2",
   "version": "2.7.6"
  }
 },
 "nbformat": 4,
 "nbformat_minor": 5
}
